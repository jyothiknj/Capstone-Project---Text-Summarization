{
 "cells": [
  {
   "cell_type": "markdown",
   "id": "6ab6a1f1",
   "metadata": {},
   "source": [
    "### Text Classification"
   ]
  },
  {
   "cell_type": "markdown",
   "id": "213acbd7",
   "metadata": {},
   "source": [
    "BBC News Summary Dataset is a very vast data set consisting of around 2500+ news articles and summaries from 5 different categories Business, Politics, Sports, Tech and Entertainment.\n",
    "\n",
    "To begin with we imported all the necessary modules and functions including but not limited to numpy, pandas, nltk, datasets, wordcloud, ML models from sklearn library etc. "
   ]
  },
  {
   "cell_type": "code",
   "execution_count": 5,
   "id": "52aecc1b",
   "metadata": {},
   "outputs": [
    {
     "name": "stderr",
     "output_type": "stream",
     "text": [
      "[nltk_data] Downloading package punkt to\n",
      "[nltk_data]     C:\\Users\\jpatchigolla\\AppData\\Roaming\\nltk_data...\n",
      "[nltk_data]   Package punkt is already up-to-date!\n",
      "[nltk_data] Downloading package stopwords to\n",
      "[nltk_data]     C:\\Users\\jpatchigolla\\AppData\\Roaming\\nltk_data...\n",
      "[nltk_data]   Package stopwords is already up-to-date!\n"
     ]
    }
   ],
   "source": [
    "import numpy as np\n",
    "import pandas as pd\n",
    "import matplotlib.pyplot as plt\n",
    "from string import punctuation\n",
    "import nltk\n",
    "from nltk import word_tokenize, sent_tokenize\n",
    "nltk.download('punkt')\n",
    "nltk.download('stopwords')\n",
    "from nltk.corpus import stopwords\n",
    "from datasets import load_metric\n",
    "from nltk.translate.bleu_score import corpus_bleu\n",
    "from transformers import pipeline\n",
    "import random\n",
    "import matplotlib.pyplot as plt\n",
    "import seaborn as sns\n",
    "from wordcloud import WordCloud, STOPWORDS, ImageColorGenerator"
   ]
  },
  {
   "cell_type": "code",
   "execution_count": 317,
   "id": "11cd9d68",
   "metadata": {},
   "outputs": [],
   "source": [
    "from sklearn.linear_model import LogisticRegression\n",
    "from sklearn.feature_extraction.text import CountVectorizer,TfidfVectorizer\n",
    "from sklearn.pipeline import Pipeline\n",
    "from sklearn.model_selection import train_test_split, GridSearchCV\n",
    "from sklearn.metrics import mean_squared_error\n",
    "from string import punctuation\n",
    "from functools import reduce\n",
    "\n"
   ]
  },
  {
   "cell_type": "code",
   "execution_count": 339,
   "id": "f2a91c4b",
   "metadata": {},
   "outputs": [],
   "source": [
    "from sklearn.naive_bayes import MultinomialNB\n",
    "from sklearn.metrics import ConfusionMatrixDisplay, confusion_matrix\n",
    "from sklearn.tree import DecisionTreeRegressor\n",
    "from sklearn.tree import DecisionTreeClassifier, export_text, plot_tree\n",
    "from sklearn.svm import SVC\n",
    "from sklearn.ensemble import AdaBoostClassifier\n",
    "from nltk.stem import PorterStemmer, WordNetLemmatizer"
   ]
  },
  {
   "cell_type": "markdown",
   "id": "23cbc310",
   "metadata": {},
   "source": [
    "### Exploratory Data Analysis\n",
    "\n",
    "1. Read the articles and summaries in to dataframes\n",
    "2. Plotted the number of articles present in each category using countplot visualizaiton from seaborn library\n",
    "3. Computed the article length, summary length for each article in the dataset\n",
    "4. Plotted the article lengths and summary lengths in a seaborn histogram by various categories\n",
    "\n",
    "#### Observations\n",
    "\n",
    "Clearly it's observed that there are 5 categories of articles and summaries\n",
    "Average Summary length for each article is around 0.4 times the article length. This is clearly depicted in the histplots."
   ]
  },
  {
   "cell_type": "code",
   "execution_count": 12,
   "id": "549c07e9",
   "metadata": {},
   "outputs": [],
   "source": [
    "import os\n",
    "import pandas as pd\n",
    "path_, filename_, category_, = [],[],[]\n",
    "for dirname, _, filenames in os.walk('C:/Users/jpatchigolla/Desktop/UCB/Capstone/BBC News Summary/News Articles/'):\n",
    "    for filename in filenames:\n",
    "        path_.append(os.path.join(dirname, filename))\n",
    "        filename_.append(filename)\n",
    "        category_.append(dirname.split(\"/\")[-1])"
   ]
  },
  {
   "cell_type": "code",
   "execution_count": 13,
   "id": "d38fec8c",
   "metadata": {},
   "outputs": [
    {
     "data": {
      "text/html": [
       "<div>\n",
       "<style scoped>\n",
       "    .dataframe tbody tr th:only-of-type {\n",
       "        vertical-align: middle;\n",
       "    }\n",
       "\n",
       "    .dataframe tbody tr th {\n",
       "        vertical-align: top;\n",
       "    }\n",
       "\n",
       "    .dataframe thead th {\n",
       "        text-align: right;\n",
       "    }\n",
       "</style>\n",
       "<table border=\"1\" class=\"dataframe\">\n",
       "  <thead>\n",
       "    <tr style=\"text-align: right;\">\n",
       "      <th></th>\n",
       "      <th>path</th>\n",
       "      <th>filename</th>\n",
       "      <th>category</th>\n",
       "    </tr>\n",
       "  </thead>\n",
       "  <tbody>\n",
       "    <tr>\n",
       "      <th>0</th>\n",
       "      <td>C:/Users/jpatchigolla/Desktop/UCB/Capstone/BBC...</td>\n",
       "      <td>001.txt</td>\n",
       "      <td>business</td>\n",
       "    </tr>\n",
       "    <tr>\n",
       "      <th>1</th>\n",
       "      <td>C:/Users/jpatchigolla/Desktop/UCB/Capstone/BBC...</td>\n",
       "      <td>002.txt</td>\n",
       "      <td>business</td>\n",
       "    </tr>\n",
       "    <tr>\n",
       "      <th>2</th>\n",
       "      <td>C:/Users/jpatchigolla/Desktop/UCB/Capstone/BBC...</td>\n",
       "      <td>003.txt</td>\n",
       "      <td>business</td>\n",
       "    </tr>\n",
       "    <tr>\n",
       "      <th>3</th>\n",
       "      <td>C:/Users/jpatchigolla/Desktop/UCB/Capstone/BBC...</td>\n",
       "      <td>004.txt</td>\n",
       "      <td>business</td>\n",
       "    </tr>\n",
       "    <tr>\n",
       "      <th>4</th>\n",
       "      <td>C:/Users/jpatchigolla/Desktop/UCB/Capstone/BBC...</td>\n",
       "      <td>005.txt</td>\n",
       "      <td>business</td>\n",
       "    </tr>\n",
       "  </tbody>\n",
       "</table>\n",
       "</div>"
      ],
      "text/plain": [
       "                                                path filename  category\n",
       "0  C:/Users/jpatchigolla/Desktop/UCB/Capstone/BBC...  001.txt  business\n",
       "1  C:/Users/jpatchigolla/Desktop/UCB/Capstone/BBC...  002.txt  business\n",
       "2  C:/Users/jpatchigolla/Desktop/UCB/Capstone/BBC...  003.txt  business\n",
       "3  C:/Users/jpatchigolla/Desktop/UCB/Capstone/BBC...  004.txt  business\n",
       "4  C:/Users/jpatchigolla/Desktop/UCB/Capstone/BBC...  005.txt  business"
      ]
     },
     "execution_count": 13,
     "metadata": {},
     "output_type": "execute_result"
    }
   ],
   "source": [
    "df_articles = pd.DataFrame({\"path\":path_, \"filename\":filename_, \"category\":category_, }, columns=[\"path\", \"filename\", \"category\"])\n",
    "df_articles.head()"
   ]
  },
  {
   "cell_type": "code",
   "execution_count": 14,
   "id": "93500571",
   "metadata": {},
   "outputs": [
    {
     "data": {
      "text/plain": [
       "sport            511\n",
       "business         510\n",
       "politics         417\n",
       "tech             401\n",
       "entertainment    386\n",
       "Name: category, dtype: int64"
      ]
     },
     "execution_count": 14,
     "metadata": {},
     "output_type": "execute_result"
    }
   ],
   "source": [
    "df_articles['category'].value_counts()"
   ]
  },
  {
   "cell_type": "code",
   "execution_count": 15,
   "id": "5938495d",
   "metadata": {},
   "outputs": [
    {
     "data": {
      "text/plain": [
       "<Axes: xlabel='category', ylabel='count'>"
      ]
     },
     "execution_count": 15,
     "metadata": {},
     "output_type": "execute_result"
    },
    {
     "data": {
      "image/png": "[encoded data removed]",
      "text/plain": [
       "<Figure size 640x480 with 1 Axes>"
      ]
     },
     "metadata": {},
     "output_type": "display_data"
    }
   ],
   "source": [
    "sns.countplot(data=df_articles, x='category')"
   ]
  },
  {
   "cell_type": "code",
   "execution_count": 16,
   "id": "afcac50f",
   "metadata": {},
   "outputs": [],
   "source": [
    "path_, filename_, category_, = [],[],[]\n",
    "for dirname, _, filenames in os.walk('C:/Users/jpatchigolla/Desktop/UCB/Capstone/BBC News Summary/Summaries/'):\n",
    "    for filename in filenames:\n",
    "        path_.append(os.path.join(dirname, filename))\n",
    "        filename_.append(filename)\n",
    "        category_.append(dirname.split(\"/\")[-1])"
   ]
  },
  {
   "cell_type": "code",
   "execution_count": 17,
   "id": "69b31fbe",
   "metadata": {},
   "outputs": [
    {
     "data": {
      "text/html": [
       "<div>\n",
       "<style scoped>\n",
       "    .dataframe tbody tr th:only-of-type {\n",
       "        vertical-align: middle;\n",
       "    }\n",
       "\n",
       "    .dataframe tbody tr th {\n",
       "        vertical-align: top;\n",
       "    }\n",
       "\n",
       "    .dataframe thead th {\n",
       "        text-align: right;\n",
       "    }\n",
       "</style>\n",
       "<table border=\"1\" class=\"dataframe\">\n",
       "  <thead>\n",
       "    <tr style=\"text-align: right;\">\n",
       "      <th></th>\n",
       "      <th>path</th>\n",
       "      <th>filename</th>\n",
       "      <th>category</th>\n",
       "    </tr>\n",
       "  </thead>\n",
       "  <tbody>\n",
       "    <tr>\n",
       "      <th>0</th>\n",
       "      <td>C:/Users/jpatchigolla/Desktop/UCB/Capstone/BBC...</td>\n",
       "      <td>001.txt</td>\n",
       "      <td>business</td>\n",
       "    </tr>\n",
       "    <tr>\n",
       "      <th>1</th>\n",
       "      <td>C:/Users/jpatchigolla/Desktop/UCB/Capstone/BBC...</td>\n",
       "      <td>002.txt</td>\n",
       "      <td>business</td>\n",
       "    </tr>\n",
       "    <tr>\n",
       "      <th>2</th>\n",
       "      <td>C:/Users/jpatchigolla/Desktop/UCB/Capstone/BBC...</td>\n",
       "      <td>003.txt</td>\n",
       "      <td>business</td>\n",
       "    </tr>\n",
       "    <tr>\n",
       "      <th>3</th>\n",
       "      <td>C:/Users/jpatchigolla/Desktop/UCB/Capstone/BBC...</td>\n",
       "      <td>004.txt</td>\n",
       "      <td>business</td>\n",
       "    </tr>\n",
       "    <tr>\n",
       "      <th>4</th>\n",
       "      <td>C:/Users/jpatchigolla/Desktop/UCB/Capstone/BBC...</td>\n",
       "      <td>005.txt</td>\n",
       "      <td>business</td>\n",
       "    </tr>\n",
       "  </tbody>\n",
       "</table>\n",
       "</div>"
      ],
      "text/plain": [
       "                                                path filename  category\n",
       "0  C:/Users/jpatchigolla/Desktop/UCB/Capstone/BBC...  001.txt  business\n",
       "1  C:/Users/jpatchigolla/Desktop/UCB/Capstone/BBC...  002.txt  business\n",
       "2  C:/Users/jpatchigolla/Desktop/UCB/Capstone/BBC...  003.txt  business\n",
       "3  C:/Users/jpatchigolla/Desktop/UCB/Capstone/BBC...  004.txt  business\n",
       "4  C:/Users/jpatchigolla/Desktop/UCB/Capstone/BBC...  005.txt  business"
      ]
     },
     "execution_count": 17,
     "metadata": {},
     "output_type": "execute_result"
    }
   ],
   "source": [
    "df_summaries = pd.DataFrame({\"path\":path_, \"filename\":filename_, \"category\":category_, }, columns=[\"path\", \"filename\", \"category\"])\n",
    "df_summaries.head()"
   ]
  },
  {
   "cell_type": "code",
   "execution_count": 18,
   "id": "96da0e3e",
   "metadata": {},
   "outputs": [
    {
     "data": {
      "text/plain": [
       "<Axes: xlabel='category', ylabel='count'>"
      ]
     },
     "execution_count": 18,
     "metadata": {},
     "output_type": "execute_result"
    },
    {
     "data": {
      "image/png": "[encoded data removed]",
      "text/plain": [
       "<Figure size 640x480 with 1 Axes>"
      ]
     },
     "metadata": {},
     "output_type": "display_data"
    }
   ],
   "source": [
    "sns.countplot(data=df_summaries, x='category')"
   ]
  },
  {
   "cell_type": "code",
   "execution_count": 21,
   "id": "c44ec54a",
   "metadata": {},
   "outputs": [
    {
     "data": {
      "text/plain": [
       "'C:/Users/jpatchigolla/Desktop/UCB/Capstone/BBC News Summary/News Articles/business\\\\002.txt'"
      ]
     },
     "execution_count": 21,
     "metadata": {},
     "output_type": "execute_result"
    }
   ],
   "source": [
    "df_articles['path'][1]"
   ]
  },
  {
   "cell_type": "code",
   "execution_count": 28,
   "id": "7eb0921a",
   "metadata": {},
   "outputs": [
    {
     "data": {
      "text/html": [
       "<div>\n",
       "<style scoped>\n",
       "    .dataframe tbody tr th:only-of-type {\n",
       "        vertical-align: middle;\n",
       "    }\n",
       "\n",
       "    .dataframe tbody tr th {\n",
       "        vertical-align: top;\n",
       "    }\n",
       "\n",
       "    .dataframe thead th {\n",
       "        text-align: right;\n",
       "    }\n",
       "</style>\n",
       "<table border=\"1\" class=\"dataframe\">\n",
       "  <thead>\n",
       "    <tr style=\"text-align: right;\">\n",
       "      <th></th>\n",
       "      <th>path</th>\n",
       "      <th>filename</th>\n",
       "      <th>category</th>\n",
       "      <th>article_length</th>\n",
       "      <th>summary_length</th>\n",
       "    </tr>\n",
       "  </thead>\n",
       "  <tbody>\n",
       "    <tr>\n",
       "      <th>0</th>\n",
       "      <td>C:/Users/jpatchigolla/Desktop/UCB/Capstone/BBC...</td>\n",
       "      <td>001.txt</td>\n",
       "      <td>business</td>\n",
       "      <td>490</td>\n",
       "      <td>160</td>\n",
       "    </tr>\n",
       "    <tr>\n",
       "      <th>1</th>\n",
       "      <td>C:/Users/jpatchigolla/Desktop/UCB/Capstone/BBC...</td>\n",
       "      <td>002.txt</td>\n",
       "      <td>business</td>\n",
       "      <td>433</td>\n",
       "      <td>178</td>\n",
       "    </tr>\n",
       "    <tr>\n",
       "      <th>2</th>\n",
       "      <td>C:/Users/jpatchigolla/Desktop/UCB/Capstone/BBC...</td>\n",
       "      <td>003.txt</td>\n",
       "      <td>business</td>\n",
       "      <td>294</td>\n",
       "      <td>132</td>\n",
       "    </tr>\n",
       "    <tr>\n",
       "      <th>3</th>\n",
       "      <td>C:/Users/jpatchigolla/Desktop/UCB/Capstone/BBC...</td>\n",
       "      <td>004.txt</td>\n",
       "      <td>business</td>\n",
       "      <td>472</td>\n",
       "      <td>227</td>\n",
       "    </tr>\n",
       "    <tr>\n",
       "      <th>4</th>\n",
       "      <td>C:/Users/jpatchigolla/Desktop/UCB/Capstone/BBC...</td>\n",
       "      <td>005.txt</td>\n",
       "      <td>business</td>\n",
       "      <td>306</td>\n",
       "      <td>123</td>\n",
       "    </tr>\n",
       "  </tbody>\n",
       "</table>\n",
       "</div>"
      ],
      "text/plain": [
       "                                                path filename  category  \\\n",
       "0  C:/Users/jpatchigolla/Desktop/UCB/Capstone/BBC...  001.txt  business   \n",
       "1  C:/Users/jpatchigolla/Desktop/UCB/Capstone/BBC...  002.txt  business   \n",
       "2  C:/Users/jpatchigolla/Desktop/UCB/Capstone/BBC...  003.txt  business   \n",
       "3  C:/Users/jpatchigolla/Desktop/UCB/Capstone/BBC...  004.txt  business   \n",
       "4  C:/Users/jpatchigolla/Desktop/UCB/Capstone/BBC...  005.txt  business   \n",
       "\n",
       "   article_length  summary_length  \n",
       "0             490             160  \n",
       "1             433             178  \n",
       "2             294             132  \n",
       "3             472             227  \n",
       "4             306             123  "
      ]
     },
     "execution_count": 28,
     "metadata": {},
     "output_type": "execute_result"
    }
   ],
   "source": [
    "articles_length = []\n",
    "summaries_length = []\n",
    "for article in df_articles['path']:\n",
    "    file = open(article, 'r')\n",
    "    text = file.read()\n",
    "    words = word_tokenize(text)\n",
    "    articles_length.append(len(words))\n",
    "df_articles['article_length'] = articles_length\n",
    "\n",
    "for summary in df_summaries['path']:\n",
    "    file = open(summary, 'r')\n",
    "    text = file.read()\n",
    "    words = word_tokenize(text)\n",
    "    summaries_length.append(len(words))   \n",
    "df_articles['summary_length'] = summaries_length\n",
    "\n",
    "df_articles.head()\n",
    "\n"
   ]
  },
  {
   "cell_type": "code",
   "execution_count": 44,
   "id": "f7475fb1",
   "metadata": {},
   "outputs": [
    {
     "data": {
      "text/plain": [
       "2.4163719358982023"
      ]
     },
     "execution_count": 44,
     "metadata": {},
     "output_type": "execute_result"
    }
   ],
   "source": [
    "df_articles['art_summ_ratio'] = (df_articles['article_length']/df_articles['summary_length']) \n",
    "df_articles['art_summ_ratio'].mean()"
   ]
  },
  {
   "cell_type": "code",
   "execution_count": 53,
   "id": "6360dddb",
   "metadata": {},
   "outputs": [
    {
     "data": {
      "text/plain": [
       "0.4202672756584203"
      ]
     },
     "execution_count": 53,
     "metadata": {},
     "output_type": "execute_result"
    }
   ],
   "source": [
    "df_articles['summ_art_ratio'] = (df_articles['summary_length']/df_articles['article_length']) \n",
    "df_articles['summ_art_ratio'].mean()"
   ]
  },
  {
   "cell_type": "code",
   "execution_count": 66,
   "id": "f1bf6a93",
   "metadata": {},
   "outputs": [
    {
     "data": {
      "text/plain": [
       "<Axes: xlabel='article_length', ylabel='Count'>"
      ]
     },
     "execution_count": 66,
     "metadata": {},
     "output_type": "execute_result"
    },
    {
     "data": {
      "image/png": "[encoded data removed]",
      "text/plain": [
       "<Figure size 640x480 with 1 Axes>"
      ]
     },
     "metadata": {},
     "output_type": "display_data"
    }
   ],
   "source": [
    "sns.histplot(data = df_articles, x= 'article_length',hue='category')\n"
   ]
  },
  {
   "cell_type": "code",
   "execution_count": 59,
   "id": "f0561c50",
   "metadata": {},
   "outputs": [
    {
     "data": {
      "text/plain": [
       "<Axes: xlabel='summary_length', ylabel='Count'>"
      ]
     },
     "execution_count": 59,
     "metadata": {},
     "output_type": "execute_result"
    },
    {
     "data": {
      "image/png": "[encoded data removed]",
      "text/plain": [
       "<Figure size 640x480 with 1 Axes>"
      ]
     },
     "metadata": {},
     "output_type": "display_data"
    }
   ],
   "source": [
    "sns.histplot(data = df_articles, x= 'summary_length',hue='category',kde=True)"
   ]
  },
  {
   "cell_type": "code",
   "execution_count": 64,
   "id": "826d1e04",
   "metadata": {},
   "outputs": [
    {
     "data": {
      "text/plain": [
       "<Axes: >"
      ]
     },
     "execution_count": 64,
     "metadata": {},
     "output_type": "execute_result"
    },
    {
     "data": {
      "image/png": "[encoded data removed]",
      "text/plain": [
       "<Figure size 640x480 with 1 Axes>"
      ]
     },
     "metadata": {},
     "output_type": "display_data"
    }
   ],
   "source": [
    "# The below plot shows the articles lengths and summary lengths for a randomly picked sample of 30 articles. If you observe, the article to summary ratio is pretty constant.\n",
    "# On an average summary length is 0.4 times the article length. So, the articles are summarized to 40% of their content.\n",
    "\n",
    "df_articles[['article_length','summary_length', 'summ_art_ratio']].sample(30).plot(style=['o','rx'])"
   ]
  },
  {
   "cell_type": "markdown",
   "id": "79776b69",
   "metadata": {},
   "source": [
    "### Exploratory Data Analysis contd...\n",
    "\n",
    "1. Read the articles and summaries using file operations and added them to the dataframe as new columns **'article_text'** and **'summary_text'**\n",
    "2. As we would like to train classification models on the article texts to predict the category article belongs to, created a new dataframe and series object with the article texts and categories as X and y.\n",
    "3. Split the dataset into training and test datasets using train_test_split function with a test_size of 0.3. \n"
   ]
  },
  {
   "cell_type": "code",
   "execution_count": 67,
   "id": "a40798d0",
   "metadata": {},
   "outputs": [
    {
     "data": {
      "text/html": [
       "<div>\n",
       "<style scoped>\n",
       "    .dataframe tbody tr th:only-of-type {\n",
       "        vertical-align: middle;\n",
       "    }\n",
       "\n",
       "    .dataframe tbody tr th {\n",
       "        vertical-align: top;\n",
       "    }\n",
       "\n",
       "    .dataframe thead th {\n",
       "        text-align: right;\n",
       "    }\n",
       "</style>\n",
       "<table border=\"1\" class=\"dataframe\">\n",
       "  <thead>\n",
       "    <tr style=\"text-align: right;\">\n",
       "      <th></th>\n",
       "      <th>path</th>\n",
       "      <th>filename</th>\n",
       "      <th>category</th>\n",
       "      <th>article_length</th>\n",
       "      <th>summary_length</th>\n",
       "      <th>art_summ_ratio</th>\n",
       "      <th>summ_art_ratio</th>\n",
       "      <th>article_text</th>\n",
       "    </tr>\n",
       "  </thead>\n",
       "  <tbody>\n",
       "    <tr>\n",
       "      <th>0</th>\n",
       "      <td>C:/Users/jpatchigolla/Desktop/UCB/Capstone/BBC...</td>\n",
       "      <td>001.txt</td>\n",
       "      <td>business</td>\n",
       "      <td>490</td>\n",
       "      <td>160</td>\n",
       "      <td>3.062500</td>\n",
       "      <td>0.326531</td>\n",
       "      <td>Ad sales boost Time Warner profit\\n\\nQuarterly...</td>\n",
       "    </tr>\n",
       "    <tr>\n",
       "      <th>1</th>\n",
       "      <td>C:/Users/jpatchigolla/Desktop/UCB/Capstone/BBC...</td>\n",
       "      <td>002.txt</td>\n",
       "      <td>business</td>\n",
       "      <td>433</td>\n",
       "      <td>178</td>\n",
       "      <td>2.432584</td>\n",
       "      <td>0.411085</td>\n",
       "      <td>Dollar gains on Greenspan speech\\n\\nThe dollar...</td>\n",
       "    </tr>\n",
       "    <tr>\n",
       "      <th>2</th>\n",
       "      <td>C:/Users/jpatchigolla/Desktop/UCB/Capstone/BBC...</td>\n",
       "      <td>003.txt</td>\n",
       "      <td>business</td>\n",
       "      <td>294</td>\n",
       "      <td>132</td>\n",
       "      <td>2.227273</td>\n",
       "      <td>0.448980</td>\n",
       "      <td>Yukos unit buyer faces loan claim\\n\\nThe owner...</td>\n",
       "    </tr>\n",
       "    <tr>\n",
       "      <th>3</th>\n",
       "      <td>C:/Users/jpatchigolla/Desktop/UCB/Capstone/BBC...</td>\n",
       "      <td>004.txt</td>\n",
       "      <td>business</td>\n",
       "      <td>472</td>\n",
       "      <td>227</td>\n",
       "      <td>2.079295</td>\n",
       "      <td>0.480932</td>\n",
       "      <td>High fuel prices hit BA's profits\\n\\nBritish A...</td>\n",
       "    </tr>\n",
       "    <tr>\n",
       "      <th>4</th>\n",
       "      <td>C:/Users/jpatchigolla/Desktop/UCB/Capstone/BBC...</td>\n",
       "      <td>005.txt</td>\n",
       "      <td>business</td>\n",
       "      <td>306</td>\n",
       "      <td>123</td>\n",
       "      <td>2.487805</td>\n",
       "      <td>0.401961</td>\n",
       "      <td>Pernod takeover talk lifts Domecq\\n\\nShares in...</td>\n",
       "    </tr>\n",
       "  </tbody>\n",
       "</table>\n",
       "</div>"
      ],
      "text/plain": [
       "                                                path filename  category  \\\n",
       "0  C:/Users/jpatchigolla/Desktop/UCB/Capstone/BBC...  001.txt  business   \n",
       "1  C:/Users/jpatchigolla/Desktop/UCB/Capstone/BBC...  002.txt  business   \n",
       "2  C:/Users/jpatchigolla/Desktop/UCB/Capstone/BBC...  003.txt  business   \n",
       "3  C:/Users/jpatchigolla/Desktop/UCB/Capstone/BBC...  004.txt  business   \n",
       "4  C:/Users/jpatchigolla/Desktop/UCB/Capstone/BBC...  005.txt  business   \n",
       "\n",
       "   article_length  summary_length  art_summ_ratio  summ_art_ratio  \\\n",
       "0             490             160        3.062500        0.326531   \n",
       "1             433             178        2.432584        0.411085   \n",
       "2             294             132        2.227273        0.448980   \n",
       "3             472             227        2.079295        0.480932   \n",
       "4             306             123        2.487805        0.401961   \n",
       "\n",
       "                                        article_text  \n",
       "0  Ad sales boost Time Warner profit\\n\\nQuarterly...  \n",
       "1  Dollar gains on Greenspan speech\\n\\nThe dollar...  \n",
       "2  Yukos unit buyer faces loan claim\\n\\nThe owner...  \n",
       "3  High fuel prices hit BA's profits\\n\\nBritish A...  \n",
       "4  Pernod takeover talk lifts Domecq\\n\\nShares in...  "
      ]
     },
     "execution_count": 67,
     "metadata": {},
     "output_type": "execute_result"
    }
   ],
   "source": [
    "article_text = []\n",
    "for article in df_articles['path']:\n",
    "    file = open(article, 'r')\n",
    "    text = file.read()\n",
    "    article_text.append(text)\n",
    "df_articles['article_text'] = article_text\n",
    "df_articles.head()"
   ]
  },
  {
   "cell_type": "code",
   "execution_count": 72,
   "id": "665c1a0c",
   "metadata": {},
   "outputs": [
    {
     "data": {
      "text/html": [
       "<div>\n",
       "<style scoped>\n",
       "    .dataframe tbody tr th:only-of-type {\n",
       "        vertical-align: middle;\n",
       "    }\n",
       "\n",
       "    .dataframe tbody tr th {\n",
       "        vertical-align: top;\n",
       "    }\n",
       "\n",
       "    .dataframe thead th {\n",
       "        text-align: right;\n",
       "    }\n",
       "</style>\n",
       "<table border=\"1\" class=\"dataframe\">\n",
       "  <thead>\n",
       "    <tr style=\"text-align: right;\">\n",
       "      <th></th>\n",
       "      <th>path</th>\n",
       "      <th>filename</th>\n",
       "      <th>category</th>\n",
       "      <th>article_length</th>\n",
       "      <th>summary_length</th>\n",
       "      <th>art_summ_ratio</th>\n",
       "      <th>summ_art_ratio</th>\n",
       "      <th>article_text</th>\n",
       "      <th>summary_text</th>\n",
       "    </tr>\n",
       "  </thead>\n",
       "  <tbody>\n",
       "    <tr>\n",
       "      <th>0</th>\n",
       "      <td>C:/Users/jpatchigolla/Desktop/UCB/Capstone/BBC...</td>\n",
       "      <td>001.txt</td>\n",
       "      <td>business</td>\n",
       "      <td>490</td>\n",
       "      <td>160</td>\n",
       "      <td>3.062500</td>\n",
       "      <td>0.326531</td>\n",
       "      <td>Ad sales boost Time Warner profit\\n\\nQuarterly...</td>\n",
       "      <td>TimeWarner said fourth quarter sales rose 2% t...</td>\n",
       "    </tr>\n",
       "    <tr>\n",
       "      <th>1</th>\n",
       "      <td>C:/Users/jpatchigolla/Desktop/UCB/Capstone/BBC...</td>\n",
       "      <td>002.txt</td>\n",
       "      <td>business</td>\n",
       "      <td>433</td>\n",
       "      <td>178</td>\n",
       "      <td>2.432584</td>\n",
       "      <td>0.411085</td>\n",
       "      <td>Dollar gains on Greenspan speech\\n\\nThe dollar...</td>\n",
       "      <td>The dollar has hit its highest level against t...</td>\n",
       "    </tr>\n",
       "    <tr>\n",
       "      <th>2</th>\n",
       "      <td>C:/Users/jpatchigolla/Desktop/UCB/Capstone/BBC...</td>\n",
       "      <td>003.txt</td>\n",
       "      <td>business</td>\n",
       "      <td>294</td>\n",
       "      <td>132</td>\n",
       "      <td>2.227273</td>\n",
       "      <td>0.448980</td>\n",
       "      <td>Yukos unit buyer faces loan claim\\n\\nThe owner...</td>\n",
       "      <td>Yukos' owner Menatep Group says it will ask Ro...</td>\n",
       "    </tr>\n",
       "    <tr>\n",
       "      <th>3</th>\n",
       "      <td>C:/Users/jpatchigolla/Desktop/UCB/Capstone/BBC...</td>\n",
       "      <td>004.txt</td>\n",
       "      <td>business</td>\n",
       "      <td>472</td>\n",
       "      <td>227</td>\n",
       "      <td>2.079295</td>\n",
       "      <td>0.480932</td>\n",
       "      <td>High fuel prices hit BA's profits\\n\\nBritish A...</td>\n",
       "      <td>Rod Eddington, BA's chief executive, said the ...</td>\n",
       "    </tr>\n",
       "    <tr>\n",
       "      <th>4</th>\n",
       "      <td>C:/Users/jpatchigolla/Desktop/UCB/Capstone/BBC...</td>\n",
       "      <td>005.txt</td>\n",
       "      <td>business</td>\n",
       "      <td>306</td>\n",
       "      <td>123</td>\n",
       "      <td>2.487805</td>\n",
       "      <td>0.401961</td>\n",
       "      <td>Pernod takeover talk lifts Domecq\\n\\nShares in...</td>\n",
       "      <td>Pernod has reduced the debt it took on to fund...</td>\n",
       "    </tr>\n",
       "  </tbody>\n",
       "</table>\n",
       "</div>"
      ],
      "text/plain": [
       "                                                path filename  category  \\\n",
       "0  C:/Users/jpatchigolla/Desktop/UCB/Capstone/BBC...  001.txt  business   \n",
       "1  C:/Users/jpatchigolla/Desktop/UCB/Capstone/BBC...  002.txt  business   \n",
       "2  C:/Users/jpatchigolla/Desktop/UCB/Capstone/BBC...  003.txt  business   \n",
       "3  C:/Users/jpatchigolla/Desktop/UCB/Capstone/BBC...  004.txt  business   \n",
       "4  C:/Users/jpatchigolla/Desktop/UCB/Capstone/BBC...  005.txt  business   \n",
       "\n",
       "   article_length  summary_length  art_summ_ratio  summ_art_ratio  \\\n",
       "0             490             160        3.062500        0.326531   \n",
       "1             433             178        2.432584        0.411085   \n",
       "2             294             132        2.227273        0.448980   \n",
       "3             472             227        2.079295        0.480932   \n",
       "4             306             123        2.487805        0.401961   \n",
       "\n",
       "                                        article_text  \\\n",
       "0  Ad sales boost Time Warner profit\\n\\nQuarterly...   \n",
       "1  Dollar gains on Greenspan speech\\n\\nThe dollar...   \n",
       "2  Yukos unit buyer faces loan claim\\n\\nThe owner...   \n",
       "3  High fuel prices hit BA's profits\\n\\nBritish A...   \n",
       "4  Pernod takeover talk lifts Domecq\\n\\nShares in...   \n",
       "\n",
       "                                        summary_text  \n",
       "0  TimeWarner said fourth quarter sales rose 2% t...  \n",
       "1  The dollar has hit its highest level against t...  \n",
       "2  Yukos' owner Menatep Group says it will ask Ro...  \n",
       "3  Rod Eddington, BA's chief executive, said the ...  \n",
       "4  Pernod has reduced the debt it took on to fund...  "
      ]
     },
     "execution_count": 72,
     "metadata": {},
     "output_type": "execute_result"
    }
   ],
   "source": [
    "summary_text = []\n",
    "for summary in df_summaries['path']:\n",
    "    file = open(summary, 'r')\n",
    "    text = file.read()\n",
    "    summary_text.append(text)\n",
    "df_articles['summary_text'] = summary_text\n",
    "df_articles.head()"
   ]
  },
  {
   "cell_type": "code",
   "execution_count": 93,
   "id": "920a514d",
   "metadata": {},
   "outputs": [
    {
     "name": "stdout",
     "output_type": "stream",
     "text": [
      "(2225, 1)\n",
      "(1557,)\n"
     ]
    }
   ],
   "source": [
    "X = df_articles[['article_text']]\n",
    "y = df_articles['category']\n",
    "X_train, X_test, y_train,y_test = train_test_split(X['article_text'],y,test_size = 0.3, random_state = 42)\n",
    "print(X.shape)\n",
    "print(X_train.shape)"
   ]
  },
  {
   "cell_type": "code",
   "execution_count": 94,
   "id": "6a8c062d",
   "metadata": {},
   "outputs": [
    {
     "data": {
      "text/plain": [
       "1557"
      ]
     },
     "execution_count": 94,
     "metadata": {},
     "output_type": "execute_result"
    }
   ],
   "source": [
    "len(y_train)"
   ]
  },
  {
   "cell_type": "markdown",
   "id": "96938519",
   "metadata": {},
   "source": [
    "### Feature Engineering\n",
    "\n",
    "Performed the below feature engineering techniques on the article text for both training and test datasets\n",
    "1. Tokenized the words\n",
    "2. Performed Lemmatization\n",
    "3. Removed the stop words and punctuation\n"
   ]
  },
  {
   "cell_type": "code",
   "execution_count": 95,
   "id": "6f5548b0",
   "metadata": {},
   "outputs": [
    {
     "data": {
      "text/plain": [
       "1617    Kirwan demands Italy consistency\\n\\nItaly coac...\n",
       "1706    Tindall wants second opinion\\n\\nEngland centre...\n",
       "1639    Sella wants Michalak recall\\n\\nFormer France c...\n",
       "1221    Prime minister's questions\\n\\nSo who, if anyon...\n",
       "680     US 'to raise TV indecency fines'\\n\\nUS politic...\n",
       "Name: article_text, dtype: object"
      ]
     },
     "execution_count": 95,
     "metadata": {},
     "output_type": "execute_result"
    }
   ],
   "source": [
    "X_train.head()"
   ]
  },
  {
   "cell_type": "code",
   "execution_count": 341,
   "id": "a4edd3c0",
   "metadata": {},
   "outputs": [],
   "source": [
    "\n",
    "\n",
    "def word_processing(text):\n",
    "    lemma = WordNetLemmatizer()\n",
    "    words = word_tokenize(text)\n",
    "    lemmatized_words = [lemma.lemmatize(w) for w in words]\n",
    "    new_text = []\n",
    "    word_frequencies = {}\n",
    "    for word in lemmatized_words:\n",
    "        if word.lower() not in stopwords.words('english'):\n",
    "            if word.lower() not in punctuation:\n",
    "                new_text.append(word)\n",
    "    return(' '.join(new_text))"
   ]
  },
  {
   "cell_type": "code",
   "execution_count": 342,
   "id": "ae2f09e7",
   "metadata": {},
   "outputs": [],
   "source": [
    "X_train = X_train.apply(word_processing)\n"
   ]
  },
  {
   "cell_type": "code",
   "execution_count": 343,
   "id": "304b7ea2",
   "metadata": {},
   "outputs": [
    {
     "data": {
      "text/plain": [
       "1617    Kirwan demand Italy consistency Italy coach Jo...\n",
       "1706    Tindall want second opinion England centre Mik...\n",
       "1639    Sella want Michalak recall Former France centr...\n",
       "1221    Prime minister 's question anyone playing poli...\n",
       "680     US 'to raise TV indecency fines' US politician...\n",
       "Name: article_text, dtype: object"
      ]
     },
     "execution_count": 343,
     "metadata": {},
     "output_type": "execute_result"
    }
   ],
   "source": [
    "X_train.head()"
   ]
  },
  {
   "cell_type": "code",
   "execution_count": 369,
   "id": "32b8cf7a",
   "metadata": {},
   "outputs": [
    {
     "data": {
      "text/plain": [
       "414     UK house price dip November UK house price dip...\n",
       "420     LSE 'sets date takeover deal' London Stock Exc...\n",
       "1644    Harinordoquy suffers France axe Number eight I...\n",
       "416     Barclays share merger talk Shares UK banking g...\n",
       "1232    Campaign 'cold call questioned Labour Conserva...\n",
       "Name: article_text, dtype: object"
      ]
     },
     "execution_count": 369,
     "metadata": {},
     "output_type": "execute_result"
    }
   ],
   "source": [
    "X_test = X_test.apply(word_processing)\n",
    "X_test.head()"
   ]
  },
  {
   "cell_type": "markdown",
   "id": "ccc47ce2",
   "metadata": {},
   "source": [
    "### Bag of Words\n",
    "\n",
    "Now after completing the feature engineering, the article texts are ready for conversion to numerical features and train the classification models\n",
    "\n",
    "Vectorized the words from article using **CountVectorizer** first and fit the training data to **LogisticRegression, Naive Bayes,SVM and AdaBoost** classifiers.\n",
    "\n",
    "Computed the accuracy for each model and created a dataframe to visualize the results.\n",
    "\n",
    "Now used the **TFIDVectorizer** to vectorize the words and repeated the model training and accuracy scores computation"
   ]
  },
  {
   "cell_type": "code",
   "execution_count": 370,
   "id": "25a4b4a9",
   "metadata": {},
   "outputs": [
    {
     "data": {
      "text/html": [
       "<div>\n",
       "<style scoped>\n",
       "    .dataframe tbody tr th:only-of-type {\n",
       "        vertical-align: middle;\n",
       "    }\n",
       "\n",
       "    .dataframe tbody tr th {\n",
       "        vertical-align: top;\n",
       "    }\n",
       "\n",
       "    .dataframe thead th {\n",
       "        text-align: right;\n",
       "    }\n",
       "</style>\n",
       "<table border=\"1\" class=\"dataframe\">\n",
       "  <thead>\n",
       "    <tr style=\"text-align: right;\">\n",
       "      <th></th>\n",
       "      <th>000</th>\n",
       "      <th>10</th>\n",
       "      <th>2004</th>\n",
       "      <th>added</th>\n",
       "      <th>award</th>\n",
       "      <th>bbc</th>\n",
       "      <th>best</th>\n",
       "      <th>blair</th>\n",
       "      <th>britain</th>\n",
       "      <th>british</th>\n",
       "      <th>...</th>\n",
       "      <th>use</th>\n",
       "      <th>used</th>\n",
       "      <th>wa</th>\n",
       "      <th>want</th>\n",
       "      <th>way</th>\n",
       "      <th>week</th>\n",
       "      <th>win</th>\n",
       "      <th>work</th>\n",
       "      <th>world</th>\n",
       "      <th>year</th>\n",
       "    </tr>\n",
       "  </thead>\n",
       "  <tbody>\n",
       "    <tr>\n",
       "      <th>0</th>\n",
       "      <td>0</td>\n",
       "      <td>0</td>\n",
       "      <td>0</td>\n",
       "      <td>0</td>\n",
       "      <td>0</td>\n",
       "      <td>0</td>\n",
       "      <td>0</td>\n",
       "      <td>0</td>\n",
       "      <td>0</td>\n",
       "      <td>0</td>\n",
       "      <td>...</td>\n",
       "      <td>0</td>\n",
       "      <td>0</td>\n",
       "      <td>3</td>\n",
       "      <td>0</td>\n",
       "      <td>0</td>\n",
       "      <td>0</td>\n",
       "      <td>0</td>\n",
       "      <td>0</td>\n",
       "      <td>0</td>\n",
       "      <td>0</td>\n",
       "    </tr>\n",
       "    <tr>\n",
       "      <th>1</th>\n",
       "      <td>0</td>\n",
       "      <td>0</td>\n",
       "      <td>0</td>\n",
       "      <td>0</td>\n",
       "      <td>0</td>\n",
       "      <td>0</td>\n",
       "      <td>0</td>\n",
       "      <td>0</td>\n",
       "      <td>0</td>\n",
       "      <td>0</td>\n",
       "      <td>...</td>\n",
       "      <td>0</td>\n",
       "      <td>0</td>\n",
       "      <td>1</td>\n",
       "      <td>1</td>\n",
       "      <td>0</td>\n",
       "      <td>0</td>\n",
       "      <td>0</td>\n",
       "      <td>0</td>\n",
       "      <td>0</td>\n",
       "      <td>1</td>\n",
       "    </tr>\n",
       "    <tr>\n",
       "      <th>2</th>\n",
       "      <td>0</td>\n",
       "      <td>0</td>\n",
       "      <td>0</td>\n",
       "      <td>2</td>\n",
       "      <td>0</td>\n",
       "      <td>1</td>\n",
       "      <td>1</td>\n",
       "      <td>0</td>\n",
       "      <td>0</td>\n",
       "      <td>0</td>\n",
       "      <td>...</td>\n",
       "      <td>0</td>\n",
       "      <td>0</td>\n",
       "      <td>3</td>\n",
       "      <td>1</td>\n",
       "      <td>2</td>\n",
       "      <td>0</td>\n",
       "      <td>3</td>\n",
       "      <td>0</td>\n",
       "      <td>3</td>\n",
       "      <td>2</td>\n",
       "    </tr>\n",
       "    <tr>\n",
       "      <th>3</th>\n",
       "      <td>0</td>\n",
       "      <td>0</td>\n",
       "      <td>0</td>\n",
       "      <td>0</td>\n",
       "      <td>0</td>\n",
       "      <td>0</td>\n",
       "      <td>0</td>\n",
       "      <td>2</td>\n",
       "      <td>0</td>\n",
       "      <td>0</td>\n",
       "      <td>...</td>\n",
       "      <td>0</td>\n",
       "      <td>0</td>\n",
       "      <td>5</td>\n",
       "      <td>0</td>\n",
       "      <td>0</td>\n",
       "      <td>1</td>\n",
       "      <td>0</td>\n",
       "      <td>0</td>\n",
       "      <td>0</td>\n",
       "      <td>0</td>\n",
       "    </tr>\n",
       "    <tr>\n",
       "      <th>4</th>\n",
       "      <td>2</td>\n",
       "      <td>0</td>\n",
       "      <td>0</td>\n",
       "      <td>0</td>\n",
       "      <td>0</td>\n",
       "      <td>0</td>\n",
       "      <td>0</td>\n",
       "      <td>0</td>\n",
       "      <td>0</td>\n",
       "      <td>0</td>\n",
       "      <td>...</td>\n",
       "      <td>0</td>\n",
       "      <td>0</td>\n",
       "      <td>0</td>\n",
       "      <td>0</td>\n",
       "      <td>0</td>\n",
       "      <td>0</td>\n",
       "      <td>0</td>\n",
       "      <td>0</td>\n",
       "      <td>0</td>\n",
       "      <td>3</td>\n",
       "    </tr>\n",
       "  </tbody>\n",
       "</table>\n",
       "<p>5 rows × 100 columns</p>\n",
       "</div>"
      ],
      "text/plain": [
       "   000  10  2004  added  award  bbc  best  blair  britain  british  ...  use  \\\n",
       "0    0   0     0      0      0    0     0      0        0        0  ...    0   \n",
       "1    0   0     0      0      0    0     0      0        0        0  ...    0   \n",
       "2    0   0     0      2      0    1     1      0        0        0  ...    0   \n",
       "3    0   0     0      0      0    0     0      2        0        0  ...    0   \n",
       "4    2   0     0      0      0    0     0      0        0        0  ...    0   \n",
       "\n",
       "   used  wa  want  way  week  win  work  world  year  \n",
       "0     0   3     0    0     0    0     0      0     0  \n",
       "1     0   1     1    0     0    0     0      0     1  \n",
       "2     0   3     1    2     0    3     0      3     2  \n",
       "3     0   5     0    0     1    0     0      0     0  \n",
       "4     0   0     0    0     0    0     0      0     3  \n",
       "\n",
       "[5 rows x 100 columns]"
      ]
     },
     "execution_count": 370,
     "metadata": {},
     "output_type": "execute_result"
    }
   ],
   "source": [
    "cvect = CountVectorizer(max_features = 100, stop_words = 'english')\n",
    "dtm = cvect.fit_transform(X_train)\n",
    "pd.DataFrame(dtm.toarray(), columns = cvect.get_feature_names_out()).head()"
   ]
  },
  {
   "cell_type": "code",
   "execution_count": 371,
   "id": "4039ab0e",
   "metadata": {},
   "outputs": [
    {
     "data": {
      "text/html": [
       "<div>\n",
       "<style scoped>\n",
       "    .dataframe tbody tr th:only-of-type {\n",
       "        vertical-align: middle;\n",
       "    }\n",
       "\n",
       "    .dataframe tbody tr th {\n",
       "        vertical-align: top;\n",
       "    }\n",
       "\n",
       "    .dataframe thead th {\n",
       "        text-align: right;\n",
       "    }\n",
       "</style>\n",
       "<table border=\"1\" class=\"dataframe\">\n",
       "  <thead>\n",
       "    <tr style=\"text-align: right;\">\n",
       "      <th></th>\n",
       "      <th>Naive Bayes</th>\n",
       "      <th>LogisticRegression</th>\n",
       "      <th>SVC</th>\n",
       "      <th>Adaboost</th>\n",
       "    </tr>\n",
       "    <tr>\n",
       "      <th>Bag of Words</th>\n",
       "      <th></th>\n",
       "      <th></th>\n",
       "      <th></th>\n",
       "      <th></th>\n",
       "    </tr>\n",
       "  </thead>\n",
       "  <tbody>\n",
       "    <tr>\n",
       "      <th>CountVectorizer</th>\n",
       "      <td>0</td>\n",
       "      <td>0</td>\n",
       "      <td>0</td>\n",
       "      <td>0</td>\n",
       "    </tr>\n",
       "    <tr>\n",
       "      <th>TfidVectorizer</th>\n",
       "      <td>0</td>\n",
       "      <td>0</td>\n",
       "      <td>0</td>\n",
       "      <td>0</td>\n",
       "    </tr>\n",
       "  </tbody>\n",
       "</table>\n",
       "</div>"
      ],
      "text/plain": [
       "                 Naive Bayes  LogisticRegression  SVC  Adaboost\n",
       "Bag of Words                                                   \n",
       "CountVectorizer            0                   0    0         0\n",
       "TfidVectorizer             0                   0    0         0"
      ]
     },
     "execution_count": 371,
     "metadata": {},
     "output_type": "execute_result"
    }
   ],
   "source": [
    "# Creatd an empty dataframe to capture the test accuracies for each classification model while using CountVectorizer or TFIDVectorizer\n",
    "\n",
    "bag_of_words = ['CountVectorizer', 'TfidVectorizer']\n",
    "clf_models = ['Naive Bayes', 'LogisticRegression', 'SVC', 'Adaboost']\n",
    "df_acc = pd.DataFrame(bag_of_words, columns=['Bag of Words'])\n",
    "df_acc[clf_models] = [0,0,0,0]\n",
    "df_acc.set_index('Bag of Words')"
   ]
  },
  {
   "cell_type": "markdown",
   "id": "5dc06389",
   "metadata": {},
   "source": [
    "### Countvectorizer to convert text into numerical features\n",
    "### Use ML models - LogisticRegression, Naive Bayes,SVM, Random Forest"
   ]
  },
  {
   "cell_type": "code",
   "execution_count": 372,
   "id": "9a36e5a8",
   "metadata": {},
   "outputs": [
    {
     "name": "stdout",
     "output_type": "stream",
     "text": [
      "0.9655688622754491\n"
     ]
    }
   ],
   "source": [
    "vect_pipe_1 = Pipeline([('cvect', CountVectorizer()),\n",
    "                       ('lgr', LogisticRegression())])\n",
    "\n",
    "params = {'cvect__max_features': [2000,3000,4000,5000],\n",
    "         'cvect__stop_words': ['english', None]}\n",
    "\n",
    "grid = GridSearchCV(vect_pipe_1, param_grid=params)\n",
    "grid.fit(X_train, y_train)\n",
    "test_acc = grid.score(X_test, y_test)\n",
    "print(test_acc)\n",
    "df_acc.loc[df_acc['Bag of Words'] == 'CountVectorizer','LogisticRegression'] = test_acc\n"
   ]
  },
  {
   "cell_type": "code",
   "execution_count": 373,
   "id": "8bbc2cb2",
   "metadata": {},
   "outputs": [
    {
     "data": {
      "text/plain": [
       "{'cvect__max_features': 4000, 'cvect__stop_words': 'english'}"
      ]
     },
     "execution_count": 373,
     "metadata": {},
     "output_type": "execute_result"
    }
   ],
   "source": [
    "grid.best_params_"
   ]
  },
  {
   "cell_type": "code",
   "execution_count": 374,
   "id": "7fde573c",
   "metadata": {},
   "outputs": [
    {
     "data": {
      "text/html": [
       "<div>\n",
       "<style scoped>\n",
       "    .dataframe tbody tr th:only-of-type {\n",
       "        vertical-align: middle;\n",
       "    }\n",
       "\n",
       "    .dataframe tbody tr th {\n",
       "        vertical-align: top;\n",
       "    }\n",
       "\n",
       "    .dataframe thead th {\n",
       "        text-align: right;\n",
       "    }\n",
       "</style>\n",
       "<table border=\"1\" class=\"dataframe\">\n",
       "  <thead>\n",
       "    <tr style=\"text-align: right;\">\n",
       "      <th></th>\n",
       "      <th>category</th>\n",
       "      <th>0</th>\n",
       "    </tr>\n",
       "  </thead>\n",
       "  <tbody>\n",
       "    <tr>\n",
       "      <th>0</th>\n",
       "      <td>business</td>\n",
       "      <td>business</td>\n",
       "    </tr>\n",
       "    <tr>\n",
       "      <th>1</th>\n",
       "      <td>business</td>\n",
       "      <td>business</td>\n",
       "    </tr>\n",
       "    <tr>\n",
       "      <th>2</th>\n",
       "      <td>sport</td>\n",
       "      <td>sport</td>\n",
       "    </tr>\n",
       "    <tr>\n",
       "      <th>3</th>\n",
       "      <td>business</td>\n",
       "      <td>business</td>\n",
       "    </tr>\n",
       "    <tr>\n",
       "      <th>4</th>\n",
       "      <td>politics</td>\n",
       "      <td>politics</td>\n",
       "    </tr>\n",
       "    <tr>\n",
       "      <th>5</th>\n",
       "      <td>sport</td>\n",
       "      <td>sport</td>\n",
       "    </tr>\n",
       "    <tr>\n",
       "      <th>6</th>\n",
       "      <td>sport</td>\n",
       "      <td>sport</td>\n",
       "    </tr>\n",
       "    <tr>\n",
       "      <th>7</th>\n",
       "      <td>politics</td>\n",
       "      <td>politics</td>\n",
       "    </tr>\n",
       "    <tr>\n",
       "      <th>8</th>\n",
       "      <td>entertainment</td>\n",
       "      <td>entertainment</td>\n",
       "    </tr>\n",
       "    <tr>\n",
       "      <th>9</th>\n",
       "      <td>politics</td>\n",
       "      <td>politics</td>\n",
       "    </tr>\n",
       "  </tbody>\n",
       "</table>\n",
       "</div>"
      ],
      "text/plain": [
       "        category              0\n",
       "0       business       business\n",
       "1       business       business\n",
       "2          sport          sport\n",
       "3       business       business\n",
       "4       politics       politics\n",
       "5          sport          sport\n",
       "6          sport          sport\n",
       "7       politics       politics\n",
       "8  entertainment  entertainment\n",
       "9       politics       politics"
      ]
     },
     "execution_count": 374,
     "metadata": {},
     "output_type": "execute_result"
    }
   ],
   "source": [
    "preds = pd.DataFrame(grid.predict(X_test),y_test).reset_index()\n",
    "preds.head(10)\n"
   ]
  },
  {
   "cell_type": "code",
   "execution_count": 375,
   "id": "e6a81036",
   "metadata": {},
   "outputs": [
    {
     "name": "stdout",
     "output_type": "stream",
     "text": [
      "0.9730538922155688\n"
     ]
    }
   ],
   "source": [
    "vect_pipe_naive_bayes = Pipeline([('cvect', CountVectorizer(max_features = 3000, stop_words = 'english')),\n",
    "                       ('bayes', MultinomialNB())])\n",
    "vect_pipe_naive_bayes.fit(X_train, y_train)\n",
    "cvect_naive_bayes_acc = vect_pipe_naive_bayes.score(X_test, y_test)\n",
    "df_acc.loc[df_acc['Bag of Words'] == 'CountVectorizer','Naive Bayes'] = cvect_naive_bayes_acc\n",
    "print(cvect_naive_bayes_acc)"
   ]
  },
  {
   "cell_type": "code",
   "execution_count": 376,
   "id": "affdc5ea",
   "metadata": {},
   "outputs": [
    {
     "name": "stdout",
     "output_type": "stream",
     "text": [
      "0.9580838323353293\n"
     ]
    }
   ],
   "source": [
    "vect_pipe_svm = Pipeline([('cvect', CountVectorizer(max_features = 3000, stop_words = 'english')),\n",
    "                       ('svc', SVC())])\n",
    "vect_pipe_svm.fit(X_train, y_train)\n",
    "cvect_svm_acc = vect_pipe_svm.score(X_test, y_test)\n",
    "df_acc.loc[df_acc['Bag of Words'] == 'CountVectorizer','SVC'] = cvect_svm_acc\n",
    "print(cvect_svm_acc)"
   ]
  },
  {
   "cell_type": "code",
   "execution_count": 377,
   "id": "0548c6f7",
   "metadata": {},
   "outputs": [
    {
     "name": "stderr",
     "output_type": "stream",
     "text": [
      "C:\\Users\\jpatchigolla\\AppData\\Local\\anaconda3\\Lib\\site-packages\\sklearn\\ensemble\\_weight_boosting.py:519: FutureWarning: The SAMME.R algorithm (the default) is deprecated and will be removed in 1.6. Use the SAMME algorithm to circumvent this warning.\n",
      "  warnings.warn(\n"
     ]
    },
    {
     "name": "stdout",
     "output_type": "stream",
     "text": [
      "0.8398203592814372\n"
     ]
    }
   ],
   "source": [
    "vect_pipe_adaboost = Pipeline([('cvect', CountVectorizer(max_features = 3000, stop_words = 'english')),\n",
    "                       ('ada', AdaBoostClassifier(DecisionTreeClassifier(), n_estimators = 200, random_state = 42))])\n",
    "vect_pipe_adaboost.fit(X_train, y_train)\n",
    "cvect_adaboost_acc = vect_pipe_adaboost.score(X_test, y_test)\n",
    "print(cvect_adaboost_acc)\n",
    "\n",
    "df_acc.loc[df_acc['Bag of Words'] == 'CountVectorizer','Adaboost'] = cvect_adaboost_acc"
   ]
  },
  {
   "cell_type": "code",
   "execution_count": 378,
   "id": "3dbaeee6",
   "metadata": {},
   "outputs": [
    {
     "data": {
      "text/html": [
       "<div>\n",
       "<style scoped>\n",
       "    .dataframe tbody tr th:only-of-type {\n",
       "        vertical-align: middle;\n",
       "    }\n",
       "\n",
       "    .dataframe tbody tr th {\n",
       "        vertical-align: top;\n",
       "    }\n",
       "\n",
       "    .dataframe thead th {\n",
       "        text-align: right;\n",
       "    }\n",
       "</style>\n",
       "<table border=\"1\" class=\"dataframe\">\n",
       "  <thead>\n",
       "    <tr style=\"text-align: right;\">\n",
       "      <th></th>\n",
       "      <th>Bag of Words</th>\n",
       "      <th>Naive Bayes</th>\n",
       "      <th>LogisticRegression</th>\n",
       "      <th>SVC</th>\n",
       "      <th>Adaboost</th>\n",
       "    </tr>\n",
       "  </thead>\n",
       "  <tbody>\n",
       "    <tr>\n",
       "      <th>0</th>\n",
       "      <td>CountVectorizer</td>\n",
       "      <td>0.973054</td>\n",
       "      <td>0.965569</td>\n",
       "      <td>0.958084</td>\n",
       "      <td>0.83982</td>\n",
       "    </tr>\n",
       "    <tr>\n",
       "      <th>1</th>\n",
       "      <td>TfidVectorizer</td>\n",
       "      <td>0.000000</td>\n",
       "      <td>0.000000</td>\n",
       "      <td>0.000000</td>\n",
       "      <td>0.00000</td>\n",
       "    </tr>\n",
       "  </tbody>\n",
       "</table>\n",
       "</div>"
      ],
      "text/plain": [
       "      Bag of Words  Naive Bayes  LogisticRegression       SVC  Adaboost\n",
       "0  CountVectorizer     0.973054            0.965569  0.958084   0.83982\n",
       "1   TfidVectorizer     0.000000            0.000000  0.000000   0.00000"
      ]
     },
     "execution_count": 378,
     "metadata": {},
     "output_type": "execute_result"
    }
   ],
   "source": [
    "df_acc"
   ]
  },
  {
   "cell_type": "markdown",
   "id": "ef3d6857",
   "metadata": {},
   "source": [
    "### TFIDF to convert text into numerical features\n",
    "### Use ML models - LogisticRegression, Naive Bayes,SVM, AdaBoost and measure accuracy of predictions"
   ]
  },
  {
   "cell_type": "code",
   "execution_count": 379,
   "id": "f41c59ae",
   "metadata": {},
   "outputs": [
    {
     "name": "stdout",
     "output_type": "stream",
     "text": [
      "0.9730538922155688\n"
     ]
    }
   ],
   "source": [
    "tfidf_pipe_naive_bayes = Pipeline([('tfidf', TfidfVectorizer()),\n",
    "                       ('bayes', MultinomialNB())])\n",
    "\n",
    "params = {'tfidf__max_features': [2000,3000,4000,5000],\n",
    "         'tfidf__stop_words': ['english', None]}\n",
    "\n",
    "grid_tfidf = GridSearchCV(tfidf_pipe_naive_bayes, param_grid=params)\n",
    "\n",
    "grid_tfidf.fit(X_train, y_train)\n",
    "tfidf_naive_bayes_acc = grid_tfidf.score(X_test, y_test)\n",
    "df_acc.loc[df_acc['Bag of Words'] == 'TfidVectorizer','Naive Bayes']=tfidf_naive_bayes_acc\n",
    "print(tfidf_naive_bayes_acc)"
   ]
  },
  {
   "cell_type": "code",
   "execution_count": 380,
   "id": "c6ec86d1",
   "metadata": {},
   "outputs": [
    {
     "data": {
      "text/plain": [
       "{'tfidf__max_features': 5000, 'tfidf__stop_words': 'english'}"
      ]
     },
     "execution_count": 380,
     "metadata": {},
     "output_type": "execute_result"
    }
   ],
   "source": [
    "grid_tfidf.best_params_"
   ]
  },
  {
   "cell_type": "code",
   "execution_count": 381,
   "id": "f7b20c34",
   "metadata": {},
   "outputs": [
    {
     "name": "stdout",
     "output_type": "stream",
     "text": [
      "0.9775449101796407\n"
     ]
    }
   ],
   "source": [
    "tfidf_pipe_logreg = Pipeline([('tfidf', TfidfVectorizer(max_features = 5000, stop_words = 'english')),\n",
    "                       ('lgr', LogisticRegression())])\n",
    "tfidf_pipe_logreg.fit(X_train, y_train)\n",
    "tfidf_logreg_acc = tfidf_pipe_logreg.score(X_test, y_test)\n",
    "print(tfidf_logreg_acc)\n",
    "\n",
    "df_acc.loc[df_acc['Bag of Words'] == 'TfidVectorizer','LogisticRegression']=tfidf_logreg_acc"
   ]
  },
  {
   "cell_type": "code",
   "execution_count": 382,
   "id": "3f06eb0c",
   "metadata": {},
   "outputs": [
    {
     "name": "stdout",
     "output_type": "stream",
     "text": [
      "0.9775449101796407\n"
     ]
    }
   ],
   "source": [
    "tfidf_pipe_svm = Pipeline([('tfidf', TfidfVectorizer(max_features = 5000, stop_words = 'english')),\n",
    "                       ('svm', SVC())])\n",
    "tfidf_pipe_svm.fit(X_train, y_train)\n",
    "tfidf_svm_acc = tfidf_pipe_svm.score(X_test, y_test)\n",
    "print(tfidf_svm_acc)\n",
    "df_acc.loc[df_acc['Bag of Words'] == 'TfidVectorizer','SVC'] = tfidf_svm_acc"
   ]
  },
  {
   "cell_type": "code",
   "execution_count": 383,
   "id": "7e1a4cd6",
   "metadata": {},
   "outputs": [
    {
     "name": "stderr",
     "output_type": "stream",
     "text": [
      "C:\\Users\\jpatchigolla\\AppData\\Local\\anaconda3\\Lib\\site-packages\\sklearn\\ensemble\\_weight_boosting.py:519: FutureWarning: The SAMME.R algorithm (the default) is deprecated and will be removed in 1.6. Use the SAMME algorithm to circumvent this warning.\n",
      "  warnings.warn(\n"
     ]
    },
    {
     "name": "stdout",
     "output_type": "stream",
     "text": [
      "0.8413173652694611\n"
     ]
    }
   ],
   "source": [
    "tfidf_pipe_adaboost = Pipeline([('tfidf', TfidfVectorizer(max_features = 5000, stop_words = 'english')),\n",
    "                       ('ada', AdaBoostClassifier(DecisionTreeClassifier(), n_estimators = 200, random_state = 42))])\n",
    "tfidf_pipe_adaboost.fit(X_train, y_train)\n",
    "tfidf_adaboost_acc = tfidf_pipe_adaboost.score(X_test, y_test)\n",
    "print(tfidf_adaboost_acc)\n",
    "df_acc.loc[df_acc['Bag of Words'] == 'TfidVectorizer','Adaboost'] = tfidf_adaboost_acc"
   ]
  },
  {
   "cell_type": "code",
   "execution_count": 384,
   "id": "f20faaee",
   "metadata": {},
   "outputs": [
    {
     "data": {
      "text/html": [
       "<div>\n",
       "<style scoped>\n",
       "    .dataframe tbody tr th:only-of-type {\n",
       "        vertical-align: middle;\n",
       "    }\n",
       "\n",
       "    .dataframe tbody tr th {\n",
       "        vertical-align: top;\n",
       "    }\n",
       "\n",
       "    .dataframe thead th {\n",
       "        text-align: right;\n",
       "    }\n",
       "</style>\n",
       "<table border=\"1\" class=\"dataframe\">\n",
       "  <thead>\n",
       "    <tr style=\"text-align: right;\">\n",
       "      <th></th>\n",
       "      <th>Bag of Words</th>\n",
       "      <th>Naive Bayes</th>\n",
       "      <th>LogisticRegression</th>\n",
       "      <th>SVC</th>\n",
       "      <th>Adaboost</th>\n",
       "    </tr>\n",
       "  </thead>\n",
       "  <tbody>\n",
       "    <tr>\n",
       "      <th>0</th>\n",
       "      <td>CountVectorizer</td>\n",
       "      <td>0.973054</td>\n",
       "      <td>0.965569</td>\n",
       "      <td>0.958084</td>\n",
       "      <td>0.839820</td>\n",
       "    </tr>\n",
       "    <tr>\n",
       "      <th>1</th>\n",
       "      <td>TfidVectorizer</td>\n",
       "      <td>0.973054</td>\n",
       "      <td>0.977545</td>\n",
       "      <td>0.977545</td>\n",
       "      <td>0.841317</td>\n",
       "    </tr>\n",
       "  </tbody>\n",
       "</table>\n",
       "</div>"
      ],
      "text/plain": [
       "      Bag of Words  Naive Bayes  LogisticRegression       SVC  Adaboost\n",
       "0  CountVectorizer     0.973054            0.965569  0.958084  0.839820\n",
       "1   TfidVectorizer     0.973054            0.977545  0.977545  0.841317"
      ]
     },
     "execution_count": 384,
     "metadata": {},
     "output_type": "execute_result"
    }
   ],
   "source": [
    "df_acc"
   ]
  },
  {
   "cell_type": "markdown",
   "id": "c26534de",
   "metadata": {},
   "source": [
    "#### Observations\n",
    "\n",
    "From the above table of accuracies, it's evident that with the text classification, Adaboost gives the least accuracy. \n",
    "When CountVectorizer is used to vectorize the words, Naive Bayes gives the best accuracy. \n",
    "With TfidVectorizer, accuracies of Naive Bayes, LogisticRegression and SVC are almost the same. SVC is just a little bit higher.\n",
    "\n",
    "Now we will move forward with improving the model."
   ]
  },
  {
   "cell_type": "markdown",
   "id": "7fa7d587",
   "metadata": {},
   "source": [
    "### Improving the models with finding best hyperparameters for each of them"
   ]
  },
  {
   "cell_type": "code",
   "execution_count": 385,
   "id": "1a521744",
   "metadata": {},
   "outputs": [
    {
     "data": {
      "text/html": [
       "<div>\n",
       "<style scoped>\n",
       "    .dataframe tbody tr th:only-of-type {\n",
       "        vertical-align: middle;\n",
       "    }\n",
       "\n",
       "    .dataframe tbody tr th {\n",
       "        vertical-align: top;\n",
       "    }\n",
       "\n",
       "    .dataframe thead th {\n",
       "        text-align: right;\n",
       "    }\n",
       "</style>\n",
       "<table border=\"1\" class=\"dataframe\">\n",
       "  <thead>\n",
       "    <tr style=\"text-align: right;\">\n",
       "      <th></th>\n",
       "      <th>Bag of Words</th>\n",
       "      <th>Naive Bayes</th>\n",
       "      <th>LogisticRegression</th>\n",
       "      <th>SVC</th>\n",
       "      <th>Adaboost</th>\n",
       "    </tr>\n",
       "  </thead>\n",
       "  <tbody>\n",
       "    <tr>\n",
       "      <th>0</th>\n",
       "      <td>CountVectorizer</td>\n",
       "      <td>0</td>\n",
       "      <td>0</td>\n",
       "      <td>0</td>\n",
       "      <td>0</td>\n",
       "    </tr>\n",
       "    <tr>\n",
       "      <th>1</th>\n",
       "      <td>TfidVectorizer</td>\n",
       "      <td>0</td>\n",
       "      <td>0</td>\n",
       "      <td>0</td>\n",
       "      <td>0</td>\n",
       "    </tr>\n",
       "  </tbody>\n",
       "</table>\n",
       "</div>"
      ],
      "text/plain": [
       "      Bag of Words  Naive Bayes  LogisticRegression  SVC  Adaboost\n",
       "0  CountVectorizer            0                   0    0         0\n",
       "1   TfidVectorizer            0                   0    0         0"
      ]
     },
     "execution_count": 385,
     "metadata": {},
     "output_type": "execute_result"
    }
   ],
   "source": [
    "# Creating an empty dataframe to capture the test accuracies for each of the improved classification model while using CountVectorizer or TFIDVectorizer\n",
    "\n",
    "bag_of_words = ['CountVectorizer', 'TfidVectorizer']\n",
    "clf_models = ['Naive Bayes', 'LogisticRegression', 'SVC', 'Adaboost']\n",
    "df_acc_improved = pd.DataFrame(bag_of_words, columns=['Bag of Words'])\n",
    "df_acc_improved[clf_models] = [0,0,0,0]\n",
    "df_acc_improved.set_index('Bag of Words')\n",
    "df_acc_improved"
   ]
  },
  {
   "cell_type": "code",
   "execution_count": 386,
   "id": "b35c704d",
   "metadata": {},
   "outputs": [
    {
     "name": "stdout",
     "output_type": "stream",
     "text": [
      "{'lgr__multi_class': 'ovr'}\n",
      "0.9625748502994012\n"
     ]
    }
   ],
   "source": [
    "vect_pipe_imp = Pipeline([('cvect', CountVectorizer(max_features = 3000, stop_words = 'english')),\n",
    "                       ('lgr', LogisticRegression())])\n",
    "\n",
    "logreg_params = {'lgr__multi_class': ['multinomial','auto', 'ovr']}\n",
    "\n",
    "logreg_grid = GridSearchCV(vect_pipe_imp, param_grid = logreg_params).fit(X_train, y_train)\n",
    "\n",
    "logreg = logreg_grid.best_estimator_\n",
    "logreg.fit(X_train,y_train)\n",
    "print(logreg_grid.best_params_)\n",
    "test_acc = logreg.score(X_test, y_test)\n",
    "df_acc_improved.loc[df_acc_improved['Bag of Words'] == 'CountVectorizer','LogisticRegression'] = test_acc\n",
    "\n",
    "print(test_acc)\n"
   ]
  },
  {
   "cell_type": "code",
   "execution_count": 387,
   "id": "115eefc0",
   "metadata": {},
   "outputs": [
    {
     "name": "stdout",
     "output_type": "stream",
     "text": [
      "{'nb__alpha': 1}\n",
      "0.9730538922155688\n"
     ]
    }
   ],
   "source": [
    "vect_pipe_imp_nb = Pipeline([('cvect', CountVectorizer(max_features = 3000, stop_words = 'english')),\n",
    "                       ('nb', MultinomialNB())])\n",
    "\n",
    "nb_params = {'nb__alpha': [0.00001, 0.0001, 0.001, 0.1, 1, 10, 100,1000]}\n",
    "\n",
    "nb_grid = GridSearchCV(vect_pipe_imp_nb, param_grid = nb_params).fit(X_train, y_train)\n",
    "print(nb_grid.best_params_)\n",
    "\n",
    "nb_est = nb_grid.best_estimator_\n",
    "\n",
    "nb_est.fit(X_train,y_train)\n",
    "test_acc = nb_est.score(X_test, y_test)\n",
    "df_acc_improved.loc[df_acc_improved['Bag of Words'] == 'CountVectorizer','Naive Bayes'] = test_acc\n",
    "\n",
    "print(test_acc)"
   ]
  },
  {
   "cell_type": "code",
   "execution_count": 388,
   "id": "5cb2eaa9",
   "metadata": {},
   "outputs": [
    {
     "name": "stdout",
     "output_type": "stream",
     "text": [
      "{'svc__kernel': 'linear'}\n",
      "0.9550898203592815\n"
     ]
    }
   ],
   "source": [
    "vect_pipe_imp_svc = Pipeline([('cvect', CountVectorizer(max_features = 3000, stop_words = 'english')),\n",
    "                       ('svc', SVC())])\n",
    "\n",
    "svc_params = {'svc__kernel': ['rbf', 'poly', 'linear']}\n",
    "\n",
    "svc_grid = GridSearchCV(vect_pipe_imp_svc, param_grid = svc_params).fit(X_train, y_train)\n",
    "print(svc_grid.best_params_)\n",
    "\n",
    "svc_est = svc_grid.best_estimator_\n",
    "\n",
    "svc_est.fit(X_train,y_train)\n",
    "test_acc = svc_est.score(X_test, y_test)\n",
    "df_acc_improved.loc[df_acc_improved['Bag of Words'] == 'CountVectorizer','SVC'] = test_acc\n",
    "\n",
    "print(test_acc)"
   ]
  },
  {
   "cell_type": "code",
   "execution_count": 389,
   "id": "7d0e4b10",
   "metadata": {},
   "outputs": [
    {
     "name": "stderr",
     "output_type": "stream",
     "text": [
      "C:\\Users\\jpatchigolla\\AppData\\Local\\anaconda3\\Lib\\site-packages\\sklearn\\ensemble\\_weight_boosting.py:519: FutureWarning: The SAMME.R algorithm (the default) is deprecated and will be removed in 1.6. Use the SAMME algorithm to circumvent this warning.\n",
      "  warnings.warn(\n",
      "C:\\Users\\jpatchigolla\\AppData\\Local\\anaconda3\\Lib\\site-packages\\sklearn\\ensemble\\_weight_boosting.py:519: FutureWarning: The SAMME.R algorithm (the default) is deprecated and will be removed in 1.6. Use the SAMME algorithm to circumvent this warning.\n",
      "  warnings.warn(\n",
      "C:\\Users\\jpatchigolla\\AppData\\Local\\anaconda3\\Lib\\site-packages\\sklearn\\ensemble\\_weight_boosting.py:519: FutureWarning: The SAMME.R algorithm (the default) is deprecated and will be removed in 1.6. Use the SAMME algorithm to circumvent this warning.\n",
      "  warnings.warn(\n",
      "C:\\Users\\jpatchigolla\\AppData\\Local\\anaconda3\\Lib\\site-packages\\sklearn\\ensemble\\_weight_boosting.py:519: FutureWarning: The SAMME.R algorithm (the default) is deprecated and will be removed in 1.6. Use the SAMME algorithm to circumvent this warning.\n",
      "  warnings.warn(\n",
      "C:\\Users\\jpatchigolla\\AppData\\Local\\anaconda3\\Lib\\site-packages\\sklearn\\ensemble\\_weight_boosting.py:519: FutureWarning: The SAMME.R algorithm (the default) is deprecated and will be removed in 1.6. Use the SAMME algorithm to circumvent this warning.\n",
      "  warnings.warn(\n",
      "C:\\Users\\jpatchigolla\\AppData\\Local\\anaconda3\\Lib\\site-packages\\sklearn\\ensemble\\_weight_boosting.py:519: FutureWarning: The SAMME.R algorithm (the default) is deprecated and will be removed in 1.6. Use the SAMME algorithm to circumvent this warning.\n",
      "  warnings.warn(\n",
      "C:\\Users\\jpatchigolla\\AppData\\Local\\anaconda3\\Lib\\site-packages\\sklearn\\ensemble\\_weight_boosting.py:519: FutureWarning: The SAMME.R algorithm (the default) is deprecated and will be removed in 1.6. Use the SAMME algorithm to circumvent this warning.\n",
      "  warnings.warn(\n",
      "C:\\Users\\jpatchigolla\\AppData\\Local\\anaconda3\\Lib\\site-packages\\sklearn\\ensemble\\_weight_boosting.py:519: FutureWarning: The SAMME.R algorithm (the default) is deprecated and will be removed in 1.6. Use the SAMME algorithm to circumvent this warning.\n",
      "  warnings.warn(\n",
      "C:\\Users\\jpatchigolla\\AppData\\Local\\anaconda3\\Lib\\site-packages\\sklearn\\ensemble\\_weight_boosting.py:519: FutureWarning: The SAMME.R algorithm (the default) is deprecated and will be removed in 1.6. Use the SAMME algorithm to circumvent this warning.\n",
      "  warnings.warn(\n",
      "C:\\Users\\jpatchigolla\\AppData\\Local\\anaconda3\\Lib\\site-packages\\sklearn\\ensemble\\_weight_boosting.py:519: FutureWarning: The SAMME.R algorithm (the default) is deprecated and will be removed in 1.6. Use the SAMME algorithm to circumvent this warning.\n",
      "  warnings.warn(\n",
      "C:\\Users\\jpatchigolla\\AppData\\Local\\anaconda3\\Lib\\site-packages\\sklearn\\ensemble\\_weight_boosting.py:519: FutureWarning: The SAMME.R algorithm (the default) is deprecated and will be removed in 1.6. Use the SAMME algorithm to circumvent this warning.\n",
      "  warnings.warn(\n",
      "C:\\Users\\jpatchigolla\\AppData\\Local\\anaconda3\\Lib\\site-packages\\sklearn\\ensemble\\_weight_boosting.py:519: FutureWarning: The SAMME.R algorithm (the default) is deprecated and will be removed in 1.6. Use the SAMME algorithm to circumvent this warning.\n",
      "  warnings.warn(\n",
      "C:\\Users\\jpatchigolla\\AppData\\Local\\anaconda3\\Lib\\site-packages\\sklearn\\ensemble\\_weight_boosting.py:519: FutureWarning: The SAMME.R algorithm (the default) is deprecated and will be removed in 1.6. Use the SAMME algorithm to circumvent this warning.\n",
      "  warnings.warn(\n",
      "C:\\Users\\jpatchigolla\\AppData\\Local\\anaconda3\\Lib\\site-packages\\sklearn\\ensemble\\_weight_boosting.py:519: FutureWarning: The SAMME.R algorithm (the default) is deprecated and will be removed in 1.6. Use the SAMME algorithm to circumvent this warning.\n",
      "  warnings.warn(\n",
      "C:\\Users\\jpatchigolla\\AppData\\Local\\anaconda3\\Lib\\site-packages\\sklearn\\ensemble\\_weight_boosting.py:519: FutureWarning: The SAMME.R algorithm (the default) is deprecated and will be removed in 1.6. Use the SAMME algorithm to circumvent this warning.\n",
      "  warnings.warn(\n",
      "C:\\Users\\jpatchigolla\\AppData\\Local\\anaconda3\\Lib\\site-packages\\sklearn\\ensemble\\_weight_boosting.py:519: FutureWarning: The SAMME.R algorithm (the default) is deprecated and will be removed in 1.6. Use the SAMME algorithm to circumvent this warning.\n",
      "  warnings.warn(\n",
      "C:\\Users\\jpatchigolla\\AppData\\Local\\anaconda3\\Lib\\site-packages\\sklearn\\ensemble\\_weight_boosting.py:519: FutureWarning: The SAMME.R algorithm (the default) is deprecated and will be removed in 1.6. Use the SAMME algorithm to circumvent this warning.\n",
      "  warnings.warn(\n",
      "C:\\Users\\jpatchigolla\\AppData\\Local\\anaconda3\\Lib\\site-packages\\sklearn\\ensemble\\_weight_boosting.py:519: FutureWarning: The SAMME.R algorithm (the default) is deprecated and will be removed in 1.6. Use the SAMME algorithm to circumvent this warning.\n",
      "  warnings.warn(\n",
      "C:\\Users\\jpatchigolla\\AppData\\Local\\anaconda3\\Lib\\site-packages\\sklearn\\ensemble\\_weight_boosting.py:519: FutureWarning: The SAMME.R algorithm (the default) is deprecated and will be removed in 1.6. Use the SAMME algorithm to circumvent this warning.\n",
      "  warnings.warn(\n",
      "C:\\Users\\jpatchigolla\\AppData\\Local\\anaconda3\\Lib\\site-packages\\sklearn\\ensemble\\_weight_boosting.py:519: FutureWarning: The SAMME.R algorithm (the default) is deprecated and will be removed in 1.6. Use the SAMME algorithm to circumvent this warning.\n",
      "  warnings.warn(\n",
      "C:\\Users\\jpatchigolla\\AppData\\Local\\anaconda3\\Lib\\site-packages\\sklearn\\ensemble\\_weight_boosting.py:519: FutureWarning: The SAMME.R algorithm (the default) is deprecated and will be removed in 1.6. Use the SAMME algorithm to circumvent this warning.\n",
      "  warnings.warn(\n",
      "C:\\Users\\jpatchigolla\\AppData\\Local\\anaconda3\\Lib\\site-packages\\sklearn\\ensemble\\_weight_boosting.py:519: FutureWarning: The SAMME.R algorithm (the default) is deprecated and will be removed in 1.6. Use the SAMME algorithm to circumvent this warning.\n",
      "  warnings.warn(\n",
      "C:\\Users\\jpatchigolla\\AppData\\Local\\anaconda3\\Lib\\site-packages\\sklearn\\ensemble\\_weight_boosting.py:519: FutureWarning: The SAMME.R algorithm (the default) is deprecated and will be removed in 1.6. Use the SAMME algorithm to circumvent this warning.\n",
      "  warnings.warn(\n",
      "C:\\Users\\jpatchigolla\\AppData\\Local\\anaconda3\\Lib\\site-packages\\sklearn\\ensemble\\_weight_boosting.py:519: FutureWarning: The SAMME.R algorithm (the default) is deprecated and will be removed in 1.6. Use the SAMME algorithm to circumvent this warning.\n",
      "  warnings.warn(\n",
      "C:\\Users\\jpatchigolla\\AppData\\Local\\anaconda3\\Lib\\site-packages\\sklearn\\ensemble\\_weight_boosting.py:519: FutureWarning: The SAMME.R algorithm (the default) is deprecated and will be removed in 1.6. Use the SAMME algorithm to circumvent this warning.\n",
      "  warnings.warn(\n",
      "C:\\Users\\jpatchigolla\\AppData\\Local\\anaconda3\\Lib\\site-packages\\sklearn\\ensemble\\_weight_boosting.py:519: FutureWarning: The SAMME.R algorithm (the default) is deprecated and will be removed in 1.6. Use the SAMME algorithm to circumvent this warning.\n",
      "  warnings.warn(\n",
      "C:\\Users\\jpatchigolla\\AppData\\Local\\anaconda3\\Lib\\site-packages\\sklearn\\ensemble\\_weight_boosting.py:519: FutureWarning: The SAMME.R algorithm (the default) is deprecated and will be removed in 1.6. Use the SAMME algorithm to circumvent this warning.\n",
      "  warnings.warn(\n",
      "C:\\Users\\jpatchigolla\\AppData\\Local\\anaconda3\\Lib\\site-packages\\sklearn\\ensemble\\_weight_boosting.py:519: FutureWarning: The SAMME.R algorithm (the default) is deprecated and will be removed in 1.6. Use the SAMME algorithm to circumvent this warning.\n",
      "  warnings.warn(\n",
      "C:\\Users\\jpatchigolla\\AppData\\Local\\anaconda3\\Lib\\site-packages\\sklearn\\ensemble\\_weight_boosting.py:519: FutureWarning: The SAMME.R algorithm (the default) is deprecated and will be removed in 1.6. Use the SAMME algorithm to circumvent this warning.\n",
      "  warnings.warn(\n",
      "C:\\Users\\jpatchigolla\\AppData\\Local\\anaconda3\\Lib\\site-packages\\sklearn\\ensemble\\_weight_boosting.py:519: FutureWarning: The SAMME.R algorithm (the default) is deprecated and will be removed in 1.6. Use the SAMME algorithm to circumvent this warning.\n",
      "  warnings.warn(\n",
      "C:\\Users\\jpatchigolla\\AppData\\Local\\anaconda3\\Lib\\site-packages\\sklearn\\ensemble\\_weight_boosting.py:519: FutureWarning: The SAMME.R algorithm (the default) is deprecated and will be removed in 1.6. Use the SAMME algorithm to circumvent this warning.\n",
      "  warnings.warn(\n"
     ]
    },
    {
     "name": "stdout",
     "output_type": "stream",
     "text": [
      "{'ada__estimator__max_depth': 3, 'ada__n_estimators': 200}\n"
     ]
    },
    {
     "name": "stderr",
     "output_type": "stream",
     "text": [
      "C:\\Users\\jpatchigolla\\AppData\\Local\\anaconda3\\Lib\\site-packages\\sklearn\\ensemble\\_weight_boosting.py:519: FutureWarning: The SAMME.R algorithm (the default) is deprecated and will be removed in 1.6. Use the SAMME algorithm to circumvent this warning.\n",
      "  warnings.warn(\n"
     ]
    },
    {
     "name": "stdout",
     "output_type": "stream",
     "text": [
      "0.9476047904191617\n"
     ]
    }
   ],
   "source": [
    "vect_pipe_imp_ada = Pipeline([('cvect', CountVectorizer(max_features = 3000, stop_words = 'english')),\n",
    "                       ('ada', AdaBoostClassifier(DecisionTreeClassifier(), random_state = 42))])\n",
    "\n",
    "ada_params = {'ada__n_estimators':  [100, 200],\n",
    "             'ada__estimator__max_depth': [1, 2, 3]}\n",
    "\n",
    "ada_grid = GridSearchCV(vect_pipe_imp_ada, param_grid = ada_params).fit(X_train, y_train)\n",
    "print(ada_grid.best_params_)\n",
    "\n",
    "ada_est = ada_grid.best_estimator_\n",
    "\n",
    "ada_est.fit(X_train,y_train)\n",
    "test_acc = ada_est.score(X_test, y_test)\n",
    "df_acc_improved.loc[df_acc_improved['Bag of Words'] == 'CountVectorizer','Adaboost'] = test_acc\n",
    "\n",
    "print(test_acc)"
   ]
  },
  {
   "cell_type": "code",
   "execution_count": 390,
   "id": "4596b76d",
   "metadata": {},
   "outputs": [
    {
     "data": {
      "text/html": [
       "<div>\n",
       "<style scoped>\n",
       "    .dataframe tbody tr th:only-of-type {\n",
       "        vertical-align: middle;\n",
       "    }\n",
       "\n",
       "    .dataframe tbody tr th {\n",
       "        vertical-align: top;\n",
       "    }\n",
       "\n",
       "    .dataframe thead th {\n",
       "        text-align: right;\n",
       "    }\n",
       "</style>\n",
       "<table border=\"1\" class=\"dataframe\">\n",
       "  <thead>\n",
       "    <tr style=\"text-align: right;\">\n",
       "      <th></th>\n",
       "      <th>Bag of Words</th>\n",
       "      <th>Naive Bayes</th>\n",
       "      <th>LogisticRegression</th>\n",
       "      <th>SVC</th>\n",
       "      <th>Adaboost</th>\n",
       "    </tr>\n",
       "  </thead>\n",
       "  <tbody>\n",
       "    <tr>\n",
       "      <th>0</th>\n",
       "      <td>CountVectorizer</td>\n",
       "      <td>0.973054</td>\n",
       "      <td>0.962575</td>\n",
       "      <td>0.95509</td>\n",
       "      <td>0.947605</td>\n",
       "    </tr>\n",
       "    <tr>\n",
       "      <th>1</th>\n",
       "      <td>TfidVectorizer</td>\n",
       "      <td>0.000000</td>\n",
       "      <td>0.000000</td>\n",
       "      <td>0.00000</td>\n",
       "      <td>0.000000</td>\n",
       "    </tr>\n",
       "  </tbody>\n",
       "</table>\n",
       "</div>"
      ],
      "text/plain": [
       "      Bag of Words  Naive Bayes  LogisticRegression      SVC  Adaboost\n",
       "0  CountVectorizer     0.973054            0.962575  0.95509  0.947605\n",
       "1   TfidVectorizer     0.000000            0.000000  0.00000  0.000000"
      ]
     },
     "execution_count": 390,
     "metadata": {},
     "output_type": "execute_result"
    }
   ],
   "source": [
    "df_acc_improved"
   ]
  },
  {
   "cell_type": "code",
   "execution_count": 391,
   "id": "4d82ec3f",
   "metadata": {},
   "outputs": [],
   "source": [
    "### Improving models and finding accuracies with TFIDF vectorization"
   ]
  },
  {
   "cell_type": "code",
   "execution_count": 392,
   "id": "df99ddb6",
   "metadata": {},
   "outputs": [
    {
     "name": "stdout",
     "output_type": "stream",
     "text": [
      "{'lgr__multi_class': 'multinomial'}\n",
      "0.9775449101796407\n"
     ]
    }
   ],
   "source": [
    "tfidf_pipe_imp = Pipeline([('tfidf', TfidfVectorizer(max_features = 5000, stop_words = 'english')),\n",
    "                       ('lgr', LogisticRegression())])\n",
    "\n",
    "logreg_params = {'lgr__multi_class': ['multinomial','auto', 'ovr']}\n",
    "\n",
    "logreg_grid = GridSearchCV(tfidf_pipe_imp, param_grid = logreg_params).fit(X_train, y_train)\n",
    "\n",
    "logreg = logreg_grid.best_estimator_\n",
    "logreg.fit(X_train,y_train)\n",
    "print(logreg_grid.best_params_)\n",
    "test_acc = logreg.score(X_test, y_test)\n",
    "df_acc_improved.loc[df_acc_improved['Bag of Words'] == 'TfidVectorizer','LogisticRegression'] = test_acc\n",
    "\n",
    "print(test_acc)"
   ]
  },
  {
   "cell_type": "code",
   "execution_count": 393,
   "id": "4f3c8595",
   "metadata": {},
   "outputs": [
    {
     "name": "stdout",
     "output_type": "stream",
     "text": [
      "{'nb__alpha': 0.1}\n",
      "0.9760479041916168\n"
     ]
    }
   ],
   "source": [
    "tfidf_pipe_imp_nb = Pipeline([('tfidf', TfidfVectorizer(max_features = 5000, stop_words = 'english')),\n",
    "                       ('nb', MultinomialNB())])\n",
    "\n",
    "nb_params = {'nb__alpha': [0.00001, 0.0001, 0.001, 0.1, 1, 10, 100,1000]}\n",
    "\n",
    "nb_grid = GridSearchCV(tfidf_pipe_imp_nb, param_grid = nb_params).fit(X_train, y_train)\n",
    "print(nb_grid.best_params_)\n",
    "\n",
    "nb_est = nb_grid.best_estimator_\n",
    "\n",
    "nb_est.fit(X_train,y_train)\n",
    "test_acc = nb_est.score(X_test, y_test)\n",
    "df_acc_improved.loc[df_acc_improved['Bag of Words'] == 'TfidVectorizer','Naive Bayes'] = test_acc\n",
    "\n",
    "print(test_acc)"
   ]
  },
  {
   "cell_type": "code",
   "execution_count": 394,
   "id": "8e558711",
   "metadata": {},
   "outputs": [
    {
     "name": "stdout",
     "output_type": "stream",
     "text": [
      "{'svc__kernel': 'linear'}\n",
      "0.9745508982035929\n"
     ]
    }
   ],
   "source": [
    "tfid_pipe_imp_svc = Pipeline([('tfidf', TfidfVectorizer(max_features = 5000, stop_words = 'english')),\n",
    "                       ('svc', SVC())])\n",
    "\n",
    "svc_params = {'svc__kernel': ['rbf', 'poly', 'linear']}\n",
    "\n",
    "svc_grid = GridSearchCV(tfid_pipe_imp_svc, param_grid = svc_params).fit(X_train, y_train)\n",
    "print(svc_grid.best_params_)\n",
    "\n",
    "svc_est = svc_grid.best_estimator_\n",
    "\n",
    "svc_est.fit(X_train,y_train)\n",
    "test_acc = svc_est.score(X_test, y_test)\n",
    "df_acc_improved.loc[df_acc_improved['Bag of Words'] == 'TfidVectorizer','SVC'] = test_acc\n",
    "\n",
    "print(test_acc)"
   ]
  },
  {
   "cell_type": "code",
   "execution_count": 395,
   "id": "2d7e44b9",
   "metadata": {},
   "outputs": [
    {
     "name": "stderr",
     "output_type": "stream",
     "text": [
      "C:\\Users\\jpatchigolla\\AppData\\Local\\anaconda3\\Lib\\site-packages\\sklearn\\ensemble\\_weight_boosting.py:519: FutureWarning: The SAMME.R algorithm (the default) is deprecated and will be removed in 1.6. Use the SAMME algorithm to circumvent this warning.\n",
      "  warnings.warn(\n",
      "C:\\Users\\jpatchigolla\\AppData\\Local\\anaconda3\\Lib\\site-packages\\sklearn\\ensemble\\_weight_boosting.py:519: FutureWarning: The SAMME.R algorithm (the default) is deprecated and will be removed in 1.6. Use the SAMME algorithm to circumvent this warning.\n",
      "  warnings.warn(\n",
      "C:\\Users\\jpatchigolla\\AppData\\Local\\anaconda3\\Lib\\site-packages\\sklearn\\ensemble\\_weight_boosting.py:519: FutureWarning: The SAMME.R algorithm (the default) is deprecated and will be removed in 1.6. Use the SAMME algorithm to circumvent this warning.\n",
      "  warnings.warn(\n",
      "C:\\Users\\jpatchigolla\\AppData\\Local\\anaconda3\\Lib\\site-packages\\sklearn\\ensemble\\_weight_boosting.py:519: FutureWarning: The SAMME.R algorithm (the default) is deprecated and will be removed in 1.6. Use the SAMME algorithm to circumvent this warning.\n",
      "  warnings.warn(\n",
      "C:\\Users\\jpatchigolla\\AppData\\Local\\anaconda3\\Lib\\site-packages\\sklearn\\ensemble\\_weight_boosting.py:519: FutureWarning: The SAMME.R algorithm (the default) is deprecated and will be removed in 1.6. Use the SAMME algorithm to circumvent this warning.\n",
      "  warnings.warn(\n",
      "C:\\Users\\jpatchigolla\\AppData\\Local\\anaconda3\\Lib\\site-packages\\sklearn\\ensemble\\_weight_boosting.py:519: FutureWarning: The SAMME.R algorithm (the default) is deprecated and will be removed in 1.6. Use the SAMME algorithm to circumvent this warning.\n",
      "  warnings.warn(\n",
      "C:\\Users\\jpatchigolla\\AppData\\Local\\anaconda3\\Lib\\site-packages\\sklearn\\ensemble\\_weight_boosting.py:519: FutureWarning: The SAMME.R algorithm (the default) is deprecated and will be removed in 1.6. Use the SAMME algorithm to circumvent this warning.\n",
      "  warnings.warn(\n",
      "C:\\Users\\jpatchigolla\\AppData\\Local\\anaconda3\\Lib\\site-packages\\sklearn\\ensemble\\_weight_boosting.py:519: FutureWarning: The SAMME.R algorithm (the default) is deprecated and will be removed in 1.6. Use the SAMME algorithm to circumvent this warning.\n",
      "  warnings.warn(\n",
      "C:\\Users\\jpatchigolla\\AppData\\Local\\anaconda3\\Lib\\site-packages\\sklearn\\ensemble\\_weight_boosting.py:519: FutureWarning: The SAMME.R algorithm (the default) is deprecated and will be removed in 1.6. Use the SAMME algorithm to circumvent this warning.\n",
      "  warnings.warn(\n",
      "C:\\Users\\jpatchigolla\\AppData\\Local\\anaconda3\\Lib\\site-packages\\sklearn\\ensemble\\_weight_boosting.py:519: FutureWarning: The SAMME.R algorithm (the default) is deprecated and will be removed in 1.6. Use the SAMME algorithm to circumvent this warning.\n",
      "  warnings.warn(\n",
      "C:\\Users\\jpatchigolla\\AppData\\Local\\anaconda3\\Lib\\site-packages\\sklearn\\ensemble\\_weight_boosting.py:519: FutureWarning: The SAMME.R algorithm (the default) is deprecated and will be removed in 1.6. Use the SAMME algorithm to circumvent this warning.\n",
      "  warnings.warn(\n",
      "C:\\Users\\jpatchigolla\\AppData\\Local\\anaconda3\\Lib\\site-packages\\sklearn\\ensemble\\_weight_boosting.py:519: FutureWarning: The SAMME.R algorithm (the default) is deprecated and will be removed in 1.6. Use the SAMME algorithm to circumvent this warning.\n",
      "  warnings.warn(\n",
      "C:\\Users\\jpatchigolla\\AppData\\Local\\anaconda3\\Lib\\site-packages\\sklearn\\ensemble\\_weight_boosting.py:519: FutureWarning: The SAMME.R algorithm (the default) is deprecated and will be removed in 1.6. Use the SAMME algorithm to circumvent this warning.\n",
      "  warnings.warn(\n",
      "C:\\Users\\jpatchigolla\\AppData\\Local\\anaconda3\\Lib\\site-packages\\sklearn\\ensemble\\_weight_boosting.py:519: FutureWarning: The SAMME.R algorithm (the default) is deprecated and will be removed in 1.6. Use the SAMME algorithm to circumvent this warning.\n",
      "  warnings.warn(\n",
      "C:\\Users\\jpatchigolla\\AppData\\Local\\anaconda3\\Lib\\site-packages\\sklearn\\ensemble\\_weight_boosting.py:519: FutureWarning: The SAMME.R algorithm (the default) is deprecated and will be removed in 1.6. Use the SAMME algorithm to circumvent this warning.\n",
      "  warnings.warn(\n",
      "C:\\Users\\jpatchigolla\\AppData\\Local\\anaconda3\\Lib\\site-packages\\sklearn\\ensemble\\_weight_boosting.py:519: FutureWarning: The SAMME.R algorithm (the default) is deprecated and will be removed in 1.6. Use the SAMME algorithm to circumvent this warning.\n",
      "  warnings.warn(\n",
      "C:\\Users\\jpatchigolla\\AppData\\Local\\anaconda3\\Lib\\site-packages\\sklearn\\ensemble\\_weight_boosting.py:519: FutureWarning: The SAMME.R algorithm (the default) is deprecated and will be removed in 1.6. Use the SAMME algorithm to circumvent this warning.\n",
      "  warnings.warn(\n",
      "C:\\Users\\jpatchigolla\\AppData\\Local\\anaconda3\\Lib\\site-packages\\sklearn\\ensemble\\_weight_boosting.py:519: FutureWarning: The SAMME.R algorithm (the default) is deprecated and will be removed in 1.6. Use the SAMME algorithm to circumvent this warning.\n",
      "  warnings.warn(\n",
      "C:\\Users\\jpatchigolla\\AppData\\Local\\anaconda3\\Lib\\site-packages\\sklearn\\ensemble\\_weight_boosting.py:519: FutureWarning: The SAMME.R algorithm (the default) is deprecated and will be removed in 1.6. Use the SAMME algorithm to circumvent this warning.\n",
      "  warnings.warn(\n",
      "C:\\Users\\jpatchigolla\\AppData\\Local\\anaconda3\\Lib\\site-packages\\sklearn\\ensemble\\_weight_boosting.py:519: FutureWarning: The SAMME.R algorithm (the default) is deprecated and will be removed in 1.6. Use the SAMME algorithm to circumvent this warning.\n",
      "  warnings.warn(\n",
      "C:\\Users\\jpatchigolla\\AppData\\Local\\anaconda3\\Lib\\site-packages\\sklearn\\ensemble\\_weight_boosting.py:519: FutureWarning: The SAMME.R algorithm (the default) is deprecated and will be removed in 1.6. Use the SAMME algorithm to circumvent this warning.\n",
      "  warnings.warn(\n",
      "C:\\Users\\jpatchigolla\\AppData\\Local\\anaconda3\\Lib\\site-packages\\sklearn\\ensemble\\_weight_boosting.py:519: FutureWarning: The SAMME.R algorithm (the default) is deprecated and will be removed in 1.6. Use the SAMME algorithm to circumvent this warning.\n",
      "  warnings.warn(\n",
      "C:\\Users\\jpatchigolla\\AppData\\Local\\anaconda3\\Lib\\site-packages\\sklearn\\ensemble\\_weight_boosting.py:519: FutureWarning: The SAMME.R algorithm (the default) is deprecated and will be removed in 1.6. Use the SAMME algorithm to circumvent this warning.\n",
      "  warnings.warn(\n",
      "C:\\Users\\jpatchigolla\\AppData\\Local\\anaconda3\\Lib\\site-packages\\sklearn\\ensemble\\_weight_boosting.py:519: FutureWarning: The SAMME.R algorithm (the default) is deprecated and will be removed in 1.6. Use the SAMME algorithm to circumvent this warning.\n",
      "  warnings.warn(\n",
      "C:\\Users\\jpatchigolla\\AppData\\Local\\anaconda3\\Lib\\site-packages\\sklearn\\ensemble\\_weight_boosting.py:519: FutureWarning: The SAMME.R algorithm (the default) is deprecated and will be removed in 1.6. Use the SAMME algorithm to circumvent this warning.\n",
      "  warnings.warn(\n",
      "C:\\Users\\jpatchigolla\\AppData\\Local\\anaconda3\\Lib\\site-packages\\sklearn\\ensemble\\_weight_boosting.py:519: FutureWarning: The SAMME.R algorithm (the default) is deprecated and will be removed in 1.6. Use the SAMME algorithm to circumvent this warning.\n",
      "  warnings.warn(\n",
      "C:\\Users\\jpatchigolla\\AppData\\Local\\anaconda3\\Lib\\site-packages\\sklearn\\ensemble\\_weight_boosting.py:519: FutureWarning: The SAMME.R algorithm (the default) is deprecated and will be removed in 1.6. Use the SAMME algorithm to circumvent this warning.\n",
      "  warnings.warn(\n",
      "C:\\Users\\jpatchigolla\\AppData\\Local\\anaconda3\\Lib\\site-packages\\sklearn\\ensemble\\_weight_boosting.py:519: FutureWarning: The SAMME.R algorithm (the default) is deprecated and will be removed in 1.6. Use the SAMME algorithm to circumvent this warning.\n",
      "  warnings.warn(\n",
      "C:\\Users\\jpatchigolla\\AppData\\Local\\anaconda3\\Lib\\site-packages\\sklearn\\ensemble\\_weight_boosting.py:519: FutureWarning: The SAMME.R algorithm (the default) is deprecated and will be removed in 1.6. Use the SAMME algorithm to circumvent this warning.\n",
      "  warnings.warn(\n",
      "C:\\Users\\jpatchigolla\\AppData\\Local\\anaconda3\\Lib\\site-packages\\sklearn\\ensemble\\_weight_boosting.py:519: FutureWarning: The SAMME.R algorithm (the default) is deprecated and will be removed in 1.6. Use the SAMME algorithm to circumvent this warning.\n",
      "  warnings.warn(\n",
      "C:\\Users\\jpatchigolla\\AppData\\Local\\anaconda3\\Lib\\site-packages\\sklearn\\ensemble\\_weight_boosting.py:519: FutureWarning: The SAMME.R algorithm (the default) is deprecated and will be removed in 1.6. Use the SAMME algorithm to circumvent this warning.\n",
      "  warnings.warn(\n"
     ]
    },
    {
     "name": "stdout",
     "output_type": "stream",
     "text": [
      "{'ada__estimator__max_depth': 3, 'ada__n_estimators': 200}\n"
     ]
    },
    {
     "name": "stderr",
     "output_type": "stream",
     "text": [
      "C:\\Users\\jpatchigolla\\AppData\\Local\\anaconda3\\Lib\\site-packages\\sklearn\\ensemble\\_weight_boosting.py:519: FutureWarning: The SAMME.R algorithm (the default) is deprecated and will be removed in 1.6. Use the SAMME algorithm to circumvent this warning.\n",
      "  warnings.warn(\n"
     ]
    },
    {
     "name": "stdout",
     "output_type": "stream",
     "text": [
      "0.9461077844311377\n"
     ]
    }
   ],
   "source": [
    "tfid_pipe_imp_ada = Pipeline([('tfidf', TfidfVectorizer(max_features = 5000, stop_words = 'english')),\n",
    "                       ('ada', AdaBoostClassifier(DecisionTreeClassifier(), random_state = 42))])\n",
    "\n",
    "ada_params = {'ada__n_estimators':  [100, 200],\n",
    "             'ada__estimator__max_depth': [1, 2, 3]}\n",
    "\n",
    "ada_grid = GridSearchCV(tfid_pipe_imp_ada, param_grid = ada_params).fit(X_train, y_train)\n",
    "print(ada_grid.best_params_)\n",
    "\n",
    "ada_est = ada_grid.best_estimator_\n",
    "\n",
    "ada_est.fit(X_train,y_train)\n",
    "test_acc = ada_est.score(X_test, y_test)\n",
    "df_acc_improved.loc[df_acc_improved['Bag of Words'] == 'TfidVectorizer','Adaboost'] = test_acc\n",
    "\n",
    "print(test_acc)"
   ]
  },
  {
   "cell_type": "code",
   "execution_count": 396,
   "id": "a23c6ac3",
   "metadata": {},
   "outputs": [],
   "source": [
    "parameters = [nb_grid.best_params_, logreg_grid.best_params_, svc_grid.best_params_,ada_grid.best_params_]"
   ]
  },
  {
   "cell_type": "code",
   "execution_count": 397,
   "id": "bf295483",
   "metadata": {},
   "outputs": [],
   "source": [
    "Models = ['Naive Bayes', 'LogisticRegression', 'SVC', 'Adaboost']"
   ]
  },
  {
   "cell_type": "code",
   "execution_count": 398,
   "id": "88271632",
   "metadata": {},
   "outputs": [
    {
     "data": {
      "text/plain": [
       "[{'nb__alpha': 0.1},\n",
       " {'lgr__multi_class': 'multinomial'},\n",
       " {'svc__kernel': 'linear'},\n",
       " {'ada__estimator__max_depth': 3, 'ada__n_estimators': 200}]"
      ]
     },
     "execution_count": 398,
     "metadata": {},
     "output_type": "execute_result"
    }
   ],
   "source": [
    "parameters"
   ]
  },
  {
   "cell_type": "code",
   "execution_count": 399,
   "id": "93844e3a",
   "metadata": {},
   "outputs": [
    {
     "data": {
      "text/html": [
       "<div>\n",
       "<style scoped>\n",
       "    .dataframe tbody tr th:only-of-type {\n",
       "        vertical-align: middle;\n",
       "    }\n",
       "\n",
       "    .dataframe tbody tr th {\n",
       "        vertical-align: top;\n",
       "    }\n",
       "\n",
       "    .dataframe thead th {\n",
       "        text-align: right;\n",
       "    }\n",
       "</style>\n",
       "<table border=\"1\" class=\"dataframe\">\n",
       "  <thead>\n",
       "    <tr style=\"text-align: right;\">\n",
       "      <th></th>\n",
       "      <th>Models</th>\n",
       "      <th>Parameters</th>\n",
       "    </tr>\n",
       "  </thead>\n",
       "  <tbody>\n",
       "    <tr>\n",
       "      <th>0</th>\n",
       "      <td>Naive Bayes</td>\n",
       "      <td>{'nb__alpha': 0.1}</td>\n",
       "    </tr>\n",
       "    <tr>\n",
       "      <th>1</th>\n",
       "      <td>LogisticRegression</td>\n",
       "      <td>{'lgr__multi_class': 'multinomial'}</td>\n",
       "    </tr>\n",
       "    <tr>\n",
       "      <th>2</th>\n",
       "      <td>SVC</td>\n",
       "      <td>{'svc__kernel': 'linear'}</td>\n",
       "    </tr>\n",
       "    <tr>\n",
       "      <th>3</th>\n",
       "      <td>Adaboost</td>\n",
       "      <td>{'ada__estimator__max_depth': 3, 'ada__n_estim...</td>\n",
       "    </tr>\n",
       "  </tbody>\n",
       "</table>\n",
       "</div>"
      ],
      "text/plain": [
       "               Models                                         Parameters\n",
       "0         Naive Bayes                                 {'nb__alpha': 0.1}\n",
       "1  LogisticRegression                {'lgr__multi_class': 'multinomial'}\n",
       "2                 SVC                          {'svc__kernel': 'linear'}\n",
       "3            Adaboost  {'ada__estimator__max_depth': 3, 'ada__n_estim..."
      ]
     },
     "execution_count": 399,
     "metadata": {},
     "output_type": "execute_result"
    }
   ],
   "source": [
    "df_best_params = pd.DataFrame(Models, columns = ['Models'])\n",
    "df_best_params['Parameters'] = parameters\n",
    "df_best_params"
   ]
  },
  {
   "cell_type": "code",
   "execution_count": 400,
   "id": "7b55b73a",
   "metadata": {},
   "outputs": [
    {
     "data": {
      "text/html": [
       "<div>\n",
       "<style scoped>\n",
       "    .dataframe tbody tr th:only-of-type {\n",
       "        vertical-align: middle;\n",
       "    }\n",
       "\n",
       "    .dataframe tbody tr th {\n",
       "        vertical-align: top;\n",
       "    }\n",
       "\n",
       "    .dataframe thead th {\n",
       "        text-align: right;\n",
       "    }\n",
       "</style>\n",
       "<table border=\"1\" class=\"dataframe\">\n",
       "  <thead>\n",
       "    <tr style=\"text-align: right;\">\n",
       "      <th></th>\n",
       "      <th>Bag of Words</th>\n",
       "      <th>Naive Bayes</th>\n",
       "      <th>LogisticRegression</th>\n",
       "      <th>SVC</th>\n",
       "      <th>Adaboost</th>\n",
       "    </tr>\n",
       "  </thead>\n",
       "  <tbody>\n",
       "    <tr>\n",
       "      <th>0</th>\n",
       "      <td>CountVectorizer</td>\n",
       "      <td>0.973054</td>\n",
       "      <td>0.962575</td>\n",
       "      <td>0.955090</td>\n",
       "      <td>0.947605</td>\n",
       "    </tr>\n",
       "    <tr>\n",
       "      <th>1</th>\n",
       "      <td>TfidVectorizer</td>\n",
       "      <td>0.976048</td>\n",
       "      <td>0.977545</td>\n",
       "      <td>0.974551</td>\n",
       "      <td>0.946108</td>\n",
       "    </tr>\n",
       "  </tbody>\n",
       "</table>\n",
       "</div>"
      ],
      "text/plain": [
       "      Bag of Words  Naive Bayes  LogisticRegression       SVC  Adaboost\n",
       "0  CountVectorizer     0.973054            0.962575  0.955090  0.947605\n",
       "1   TfidVectorizer     0.976048            0.977545  0.974551  0.946108"
      ]
     },
     "execution_count": 400,
     "metadata": {},
     "output_type": "execute_result"
    }
   ],
   "source": [
    "df_acc_improved"
   ]
  },
  {
   "cell_type": "markdown",
   "id": "fc657d5f",
   "metadata": {},
   "source": [
    "### Observations of Improved models\n",
    "\n",
    "From the test accuracies computed, it's evident that when we vectorize the articles' text with TFIDF Vectorizer and fit the model LogisticRegression with the data, with model's hyper parameters multi_class = 'multinomial', gives the best accurate predictions"
   ]
  },
  {
   "cell_type": "code",
   "execution_count": 401,
   "id": "435d4919",
   "metadata": {},
   "outputs": [
    {
     "data": {
      "text/plain": [
       "business         165\n",
       "sport            140\n",
       "tech             125\n",
       "politics         120\n",
       "entertainment    118\n",
       "Name: category, dtype: int64"
      ]
     },
     "execution_count": 401,
     "metadata": {},
     "output_type": "execute_result"
    }
   ],
   "source": [
    "y_test_df = pd.DataFrame(y_test, columns = ['category'])\n",
    "y_test_df['category'].value_counts()"
   ]
  },
  {
   "cell_type": "code",
   "execution_count": 402,
   "id": "d3121785",
   "metadata": {
    "scrolled": false
   },
   "outputs": [
    {
     "data": {
      "image/png": "[encoded data removed]",
      "text/plain": [
       "<Figure size 640x480 with 2 Axes>"
      ]
     },
     "metadata": {},
     "output_type": "display_data"
    }
   ],
   "source": [
    "#Confusion Matrix\n",
    "\n",
    "df_confusion_mat = confusion_matrix(y_test, logreg.predict(X_test), labels=['business', 'entertainment', 'politics', 'sport', 'tech'])\n",
    "disp = ConfusionMatrixDisplay(confusion_matrix=df_confusion_mat, display_labels=['business', 'entertainment', 'politics', 'sport', 'tech'])\n",
    "disp.plot()\n",
    "plt.xticks(rotation=45)\n",
    "plt.show()"
   ]
  },
  {
   "cell_type": "markdown",
   "id": "9594a57f",
   "metadata": {},
   "source": [
    "### Conclusion\n",
    "\n",
    "By trying various classificaiton models to predict the category what an article is about, we see that using TfidVectorizer to vectorize the text and fitting the model LogisticRegression would yield the best predictions. The Confusion matrix also confirms that this gives the highest accuracy and precision scores.\n",
    "\n",
    "### Next Steps\n",
    "\n",
    "Continue training different ensemble models and find out if there is a better model than LogisticRegression to classify the BBC News Summary data "
   ]
  },
  {
   "cell_type": "code",
   "execution_count": null,
   "id": "fd501eef",
   "metadata": {},
   "outputs": [],
   "source": []
  }
 ],
 "metadata": {
  "kernelspec": {
   "display_name": "Python 3 (ipykernel)",
   "language": "python",
   "name": "python3"
  },
  "language_info": {
   "codemirror_mode": {
    "name": "ipython",
    "version": 3
   },
   "file_extension": ".py",
   "mimetype": "text/x-python",
   "name": "python",
   "nbconvert_exporter": "python",
   "pygments_lexer": "ipython3",
   "version": "3.11.4"
  }
 },
 "nbformat": 4,
 "nbformat_minor": 5
}
